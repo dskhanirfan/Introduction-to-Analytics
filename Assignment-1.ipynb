{
 "cells": [
  {
   "cell_type": "markdown",
   "metadata": {},
   "source": [
    "# This is a quick-start file for the assignment. Feel free to erase cells you don't need."
   ]
  },
  {
   "cell_type": "code",
   "execution_count": 1,
   "metadata": {
    "scrolled": true
   },
   "outputs": [
    {
     "name": "stdout",
     "output_type": "stream",
     "text": [
      "Collecting yfinance\n",
      "  Downloading yfinance-0.1.54.tar.gz (19 kB)\n",
      "Requirement already satisfied: pandas>=0.24 in /Users/friends/anaconda3/lib/python3.7/site-packages (from yfinance) (1.0.3)\n",
      "Requirement already satisfied: numpy>=1.15 in /Users/friends/anaconda3/lib/python3.7/site-packages (from yfinance) (1.19.0)\n",
      "Requirement already satisfied: requests>=2.20 in /Users/friends/anaconda3/lib/python3.7/site-packages (from yfinance) (2.22.0)\n",
      "Collecting multitasking>=0.0.7\n",
      "  Downloading multitasking-0.0.9.tar.gz (8.1 kB)\n",
      "Requirement already satisfied: python-dateutil>=2.6.1 in /Users/friends/anaconda3/lib/python3.7/site-packages (from pandas>=0.24->yfinance) (2.8.1)\n",
      "Requirement already satisfied: pytz>=2017.2 in /Users/friends/anaconda3/lib/python3.7/site-packages (from pandas>=0.24->yfinance) (2019.3)\n",
      "Requirement already satisfied: chardet<3.1.0,>=3.0.2 in /Users/friends/anaconda3/lib/python3.7/site-packages (from requests>=2.20->yfinance) (3.0.4)\n",
      "Requirement already satisfied: idna<2.9,>=2.5 in /Users/friends/anaconda3/lib/python3.7/site-packages (from requests>=2.20->yfinance) (2.8)\n",
      "Requirement already satisfied: urllib3!=1.25.0,!=1.25.1,<1.26,>=1.21.1 in /Users/friends/anaconda3/lib/python3.7/site-packages (from requests>=2.20->yfinance) (1.25.8)\n",
      "Requirement already satisfied: certifi>=2017.4.17 in /Users/friends/anaconda3/lib/python3.7/site-packages (from requests>=2.20->yfinance) (2020.6.20)\n",
      "Requirement already satisfied: six>=1.5 in /Users/friends/anaconda3/lib/python3.7/site-packages (from python-dateutil>=2.6.1->pandas>=0.24->yfinance) (1.14.0)\n",
      "Building wheels for collected packages: yfinance, multitasking\n",
      "  Building wheel for yfinance (setup.py) ... \u001b[?25ldone\n",
      "\u001b[?25h  Created wheel for yfinance: filename=yfinance-0.1.54-py2.py3-none-any.whl size=22409 sha256=db648948dde5a61446fb4d3306a2aa409e5802f0142b46ec3864de24546a511c\n",
      "  Stored in directory: /Users/friends/Library/Caches/pip/wheels/28/79/3c/08a301b673366fe664fe2853e136eb2acc1bb752045c11c6a1\n",
      "  Building wheel for multitasking (setup.py) ... \u001b[?25ldone\n",
      "\u001b[?25h  Created wheel for multitasking: filename=multitasking-0.0.9-py3-none-any.whl size=8366 sha256=85768af8c5a1993f465e79e7c966de5a3be5cea1e9fd86ae8c9b7f0e71d755b2\n",
      "  Stored in directory: /Users/friends/Library/Caches/pip/wheels/ae/25/47/4d68431a7ec1b6c4b5233365934b74c1d4e665bf5f968d363a\n",
      "Successfully built yfinance multitasking\n",
      "Installing collected packages: multitasking, yfinance\n",
      "Successfully installed multitasking-0.0.9 yfinance-0.1.54\n"
     ]
    }
   ],
   "source": [
    "# Your environment is probably missing some packages. We will check and, if necessary, install.\n",
    "# https://pypi.org/project/yfinance\n",
    "import pip\n",
    "from pip._internal.utils.misc import get_installed_distributions\n",
    "pkgs = ''.join(str(get_installed_distributions(local_only=True)))\n",
    "if \"yfinance\" not in pkgs:\n",
    "    !pip install yfinance\n",
    "if \"lxml\" not in pkgs:\n",
    "    !pip install lxml "
   ]
  },
  {
   "cell_type": "code",
   "execution_count": 11,
   "metadata": {},
   "outputs": [],
   "source": [
    "# Now we can import yfinance\n",
    "import yfinance as yf\n",
    "import pandas as pd\n",
    "from pathlib import Path"
   ]
  },
  {
   "cell_type": "code",
   "execution_count": 3,
   "metadata": {},
   "outputs": [],
   "source": [
    "# Let's define some useful constants\n",
    "START = \"2000-07-03\"\n",
    "END   = \"2020-08-10\"\n",
    "\n",
    "TICKERS = ['AAPL', 'ADBE', 'ADI', 'ADP', 'ADSK', 'AKAM', 'AMD', 'ANSS', 'APH', 'AVIFY', 'BA', 'BCE', 'CAJ', \\\n",
    "           'CDNS', 'CERN', 'CGNX', 'CHKP', 'CHL', 'CHU', 'CSCO', 'CSGP', 'CTL', 'CTSH', 'CTXS', 'DASTY', \\\n",
    "           'DTEGY', 'ERIC', 'FDS', 'FICO', 'FISV', 'GD', 'GE', 'GIB', 'GLW', 'HEI', 'HPQ', 'IBM', 'IFNNY', \\\n",
    "           'INFY', 'INTC', 'INTU', 'JKHY', 'KKPNY', 'KLAC', 'KYOCY', 'LHX', 'LMT', 'LOGI', 'LRCX', 'MCHP', \\\n",
    "           'MRVL', 'MSFT', 'MSI', 'MU', 'MXIM', 'NICE', 'NOC', 'NOK', 'NTTYY', 'NVDA', 'ORAN', 'ORCL', 'OTEX', \\\n",
    "           'PAYX', 'PTC', 'QCOM', 'RCI', 'ROP', 'SAP', 'SCMWY', 'SFTBF', 'SKM', 'SNPS', 'STM', 'SWKS', 'T', \\\n",
    "           'TDY', 'TEF', 'TER', 'TLK', 'TLSYY', 'TRMB', 'TSM', 'TTDKY', 'TU', 'TXN', 'TYL', 'VIV', 'VOD', \\\n",
    "           'VRSN', 'VZ', 'WDC', 'XLNX', 'ZBRA']\n",
    "\n",
    "DATAFILE_NAME = \"data.pickle\"\n",
    "\n",
    "# https://www.devdungeon.com/content/colorize-terminal-output-python\n",
    "BOLD  = '\\033[1m'\n",
    "ULINE = '\\033[4m'\n",
    "BLUE  = '\\033[34m'\n",
    "RED   = '\\033[31m'\n",
    "RESET = '\\033[0m'"
   ]
  },
  {
   "cell_type": "code",
   "execution_count": 4,
   "metadata": {},
   "outputs": [
    {
     "data": {
      "text/plain": [
       "94"
      ]
     },
     "execution_count": 4,
     "metadata": {},
     "output_type": "execute_result"
    }
   ],
   "source": [
    "len(TICKERS)"
   ]
  },
  {
   "cell_type": "markdown",
   "metadata": {},
   "source": [
    "## You need to consult `pandas` documentation https://pandas.pydata.org/pandas-docs/stable/user_guide/10min.html to complete this assignment"
   ]
  },
  {
   "cell_type": "code",
   "execution_count": 147,
   "metadata": {
    "scrolled": true
   },
   "outputs": [],
   "source": [
    "# It's practical to download data from Yahoo!Finance just once and keep a local copy\n",
    "if Path(DATAFILE_NAME).is_file(): # check if we got the datafile already\n",
    "    data = pd.read_pickle(DATAFILE_NAME) # read it\n",
    "else:\n",
    "    data = yf.download(tickers=TICKERS, start=START, end=END, group_by='ticker', auto_adjust=True)\n",
    "    data.to_pickle(DATAFILE_NAME) # save localy"
   ]
  },
  {
   "cell_type": "code",
   "execution_count": 148,
   "metadata": {
    "scrolled": false
   },
   "outputs": [
    {
     "name": "stdout",
     "output_type": "stream",
     "text": [
      "<class 'pandas.core.frame.DataFrame'>\n",
      "DatetimeIndex: 5060 entries, 2000-07-03 to 2020-08-07\n",
      "Columns: 470 entries, ('JKHY', 'Open') to ('AAPL', 'Volume')\n",
      "dtypes: float64(470)\n",
      "memory usage: 18.2 MB\n",
      "None\n"
     ]
    }
   ],
   "source": [
    "print (data.info())"
   ]
  },
  {
   "cell_type": "code",
   "execution_count": 149,
   "metadata": {
    "scrolled": false
   },
   "outputs": [
    {
     "name": "stdout",
     "output_type": "stream",
     "text": [
      "from 2000-07-03 00:00:00\n",
      "to 2020-08-07 00:00:00\n"
     ]
    }
   ],
   "source": [
    "print ('from', data.index.min()) \n",
    "print ('to', data.index.max())"
   ]
  },
  {
   "cell_type": "code",
   "execution_count": 150,
   "metadata": {},
   "outputs": [
    {
     "name": "stdout",
     "output_type": "stream",
     "text": [
      "Monday 2019-05-20\n"
     ]
    }
   ],
   "source": [
    "# prepaire a date\n",
    "date = pd.to_datetime('2019-05-20')\n",
    "# variable date contains now an object of class Timestamp\n",
    "print(date.day_name(), date.date())"
   ]
  },
  {
   "cell_type": "code",
   "execution_count": 151,
   "metadata": {},
   "outputs": [
    {
     "name": "stdout",
     "output_type": "stream",
     "text": [
      "\u001b[1m\u001b[4m\u001b[34mClose on 2019-05-20:\u001b[0m 180.6051\n"
     ]
    }
   ],
   "source": [
    "# Let's see how Apple closed at 20.5.2019\n",
    "# Get the value in the row '2019-05-20' and the column ('AAPL', 'Close')\n",
    "close_value = data.loc[date, ('AAPL', 'Close')]\n",
    "print(BOLD + ULINE + BLUE +'Close on {}:'.format(date.date()) + RESET, '{:.4f}'.format(close_value))\n",
    "# on string formating see https://pyformat.info"
   ]
  },
  {
   "cell_type": "code",
   "execution_count": 152,
   "metadata": {
    "scrolled": false
   },
   "outputs": [
    {
     "data": {
      "text/plain": [
       "[<matplotlib.lines.Line2D at 0x138000290>]"
      ]
     },
     "execution_count": 152,
     "metadata": {},
     "output_type": "execute_result"
    },
    {
     "data": {
      "image/png": "[encoded data removed]",
      "text/plain": [
       "<Figure size 1080x360 with 1 Axes>"
      ]
     },
     "metadata": {
      "needs_background": "light"
     },
     "output_type": "display_data"
    }
   ],
   "source": [
    "# visualise a couple of time series and point out the value\n",
    "series = [('AAPL','Close'), ('MSFT', 'Close')]\n",
    "ax = data[series].plot(figsize=(15,5), grid=True)\n",
    "ax.legend(['Apple', 'MS'])\n",
    "show_value = data.loc[date, ('AAPL', 'Close')]\n",
    "ax.plot([date], [show_value], marker='o', color='r')\n",
    "# more on visualisetion with low-level control se https://matplotlib.org/users\n",
    "# for making interactive plots se https://plotly.com/python/getting-started "
   ]
  },
  {
   "cell_type": "markdown",
   "metadata": {},
   "source": [
    "## 1. Find a stock among all 94 in TICKERS that had the biggest LOW/HIGH difference during one day. Whats is the name of the company? What date was it? How big was the swing in percent?"
   ]
  },
  {
   "cell_type": "code",
   "execution_count": 153,
   "metadata": {},
   "outputs": [
    {
     "data": {
      "text/plain": [
       "(5060, 470)"
      ]
     },
     "execution_count": 153,
     "metadata": {},
     "output_type": "execute_result"
    }
   ],
   "source": [
    "data.shape"
   ]
  },
  {
   "cell_type": "code",
   "execution_count": 154,
   "metadata": {},
   "outputs": [
    {
     "data": {
      "text/html": [
       "<div>\n",
       "<style scoped>\n",
       "    .dataframe tbody tr th:only-of-type {\n",
       "        vertical-align: middle;\n",
       "    }\n",
       "\n",
       "    .dataframe tbody tr th {\n",
       "        vertical-align: top;\n",
       "    }\n",
       "\n",
       "    .dataframe thead tr th {\n",
       "        text-align: left;\n",
       "    }\n",
       "\n",
       "    .dataframe thead tr:last-of-type th {\n",
       "        text-align: right;\n",
       "    }\n",
       "</style>\n",
       "<table border=\"1\" class=\"dataframe\">\n",
       "  <thead>\n",
       "    <tr>\n",
       "      <th></th>\n",
       "      <th colspan=\"5\" halign=\"left\">JKHY</th>\n",
       "      <th colspan=\"5\" halign=\"left\">KKPNY</th>\n",
       "      <th>...</th>\n",
       "      <th colspan=\"5\" halign=\"left\">AVIFY</th>\n",
       "      <th colspan=\"5\" halign=\"left\">AAPL</th>\n",
       "    </tr>\n",
       "    <tr>\n",
       "      <th></th>\n",
       "      <th>Open</th>\n",
       "      <th>High</th>\n",
       "      <th>Low</th>\n",
       "      <th>Close</th>\n",
       "      <th>Volume</th>\n",
       "      <th>Open</th>\n",
       "      <th>High</th>\n",
       "      <th>Low</th>\n",
       "      <th>Close</th>\n",
       "      <th>Volume</th>\n",
       "      <th>...</th>\n",
       "      <th>Open</th>\n",
       "      <th>High</th>\n",
       "      <th>Low</th>\n",
       "      <th>Close</th>\n",
       "      <th>Volume</th>\n",
       "      <th>Open</th>\n",
       "      <th>High</th>\n",
       "      <th>Low</th>\n",
       "      <th>Close</th>\n",
       "      <th>Volume</th>\n",
       "    </tr>\n",
       "    <tr>\n",
       "      <th>Date</th>\n",
       "      <th></th>\n",
       "      <th></th>\n",
       "      <th></th>\n",
       "      <th></th>\n",
       "      <th></th>\n",
       "      <th></th>\n",
       "      <th></th>\n",
       "      <th></th>\n",
       "      <th></th>\n",
       "      <th></th>\n",
       "      <th></th>\n",
       "      <th></th>\n",
       "      <th></th>\n",
       "      <th></th>\n",
       "      <th></th>\n",
       "      <th></th>\n",
       "      <th></th>\n",
       "      <th></th>\n",
       "      <th></th>\n",
       "      <th></th>\n",
       "      <th></th>\n",
       "    </tr>\n",
       "  </thead>\n",
       "  <tbody>\n",
       "    <tr>\n",
       "      <th>2000-07-03</th>\n",
       "      <td>19.796038</td>\n",
       "      <td>19.796038</td>\n",
       "      <td>19.202157</td>\n",
       "      <td>19.325882</td>\n",
       "      <td>50600.0</td>\n",
       "      <td>9.050846</td>\n",
       "      <td>9.261945</td>\n",
       "      <td>9.011265</td>\n",
       "      <td>9.235558</td>\n",
       "      <td>33600.0</td>\n",
       "      <td>...</td>\n",
       "      <td>0.370049</td>\n",
       "      <td>0.430465</td>\n",
       "      <td>0.370049</td>\n",
       "      <td>0.370049</td>\n",
       "      <td>47000.0</td>\n",
       "      <td>3.217376</td>\n",
       "      <td>3.352398</td>\n",
       "      <td>3.217376</td>\n",
       "      <td>3.290673</td>\n",
       "      <td>17707200.0</td>\n",
       "    </tr>\n",
       "    <tr>\n",
       "      <th>2000-07-05</th>\n",
       "      <td>19.103182</td>\n",
       "      <td>19.845534</td>\n",
       "      <td>18.459811</td>\n",
       "      <td>18.633026</td>\n",
       "      <td>260400.0</td>\n",
       "      <td>9.393884</td>\n",
       "      <td>9.512626</td>\n",
       "      <td>9.367496</td>\n",
       "      <td>9.446658</td>\n",
       "      <td>20300.0</td>\n",
       "      <td>...</td>\n",
       "      <td>0.377600</td>\n",
       "      <td>0.377600</td>\n",
       "      <td>0.377600</td>\n",
       "      <td>0.377600</td>\n",
       "      <td>7000.0</td>\n",
       "      <td>3.286816</td>\n",
       "      <td>3.406406</td>\n",
       "      <td>3.132505</td>\n",
       "      <td>3.186514</td>\n",
       "      <td>66304000.0</td>\n",
       "    </tr>\n",
       "    <tr>\n",
       "      <th>2000-07-06</th>\n",
       "      <td>18.732009</td>\n",
       "      <td>19.004204</td>\n",
       "      <td>18.162872</td>\n",
       "      <td>18.855734</td>\n",
       "      <td>326600.0</td>\n",
       "      <td>9.895240</td>\n",
       "      <td>9.987596</td>\n",
       "      <td>9.763304</td>\n",
       "      <td>9.908434</td>\n",
       "      <td>47400.0</td>\n",
       "      <td>...</td>\n",
       "      <td>0.381377</td>\n",
       "      <td>0.381377</td>\n",
       "      <td>0.381377</td>\n",
       "      <td>0.381377</td>\n",
       "      <td>5000.0</td>\n",
       "      <td>3.240522</td>\n",
       "      <td>3.267527</td>\n",
       "      <td>3.063065</td>\n",
       "      <td>3.198087</td>\n",
       "      <td>77386400.0</td>\n",
       "    </tr>\n",
       "    <tr>\n",
       "      <th>2000-07-07</th>\n",
       "      <td>19.004197</td>\n",
       "      <td>19.598078</td>\n",
       "      <td>18.905217</td>\n",
       "      <td>19.548588</td>\n",
       "      <td>485800.0</td>\n",
       "      <td>9.974403</td>\n",
       "      <td>10.172308</td>\n",
       "      <td>9.974403</td>\n",
       "      <td>10.119534</td>\n",
       "      <td>36700.0</td>\n",
       "      <td>...</td>\n",
       "      <td>0.381377</td>\n",
       "      <td>0.381377</td>\n",
       "      <td>0.381377</td>\n",
       "      <td>0.381377</td>\n",
       "      <td>0.0</td>\n",
       "      <td>3.246309</td>\n",
       "      <td>3.383260</td>\n",
       "      <td>3.217376</td>\n",
       "      <td>3.360113</td>\n",
       "      <td>65900800.0</td>\n",
       "    </tr>\n",
       "    <tr>\n",
       "      <th>2000-07-10</th>\n",
       "      <td>19.412495</td>\n",
       "      <td>19.796044</td>\n",
       "      <td>18.738193</td>\n",
       "      <td>19.697063</td>\n",
       "      <td>289600.0</td>\n",
       "      <td>9.974402</td>\n",
       "      <td>10.119532</td>\n",
       "      <td>9.974402</td>\n",
       "      <td>10.053564</td>\n",
       "      <td>10500.0</td>\n",
       "      <td>...</td>\n",
       "      <td>0.396481</td>\n",
       "      <td>0.396481</td>\n",
       "      <td>0.392704</td>\n",
       "      <td>0.396481</td>\n",
       "      <td>28000.0</td>\n",
       "      <td>3.338896</td>\n",
       "      <td>3.595437</td>\n",
       "      <td>3.317678</td>\n",
       "      <td>3.525998</td>\n",
       "      <td>99449000.0</td>\n",
       "    </tr>\n",
       "  </tbody>\n",
       "</table>\n",
       "<p>5 rows × 470 columns</p>\n",
       "</div>"
      ],
      "text/plain": [
       "                 JKHY                                                KKPNY  \\\n",
       "                 Open       High        Low      Close    Volume      Open   \n",
       "Date                                                                         \n",
       "2000-07-03  19.796038  19.796038  19.202157  19.325882   50600.0  9.050846   \n",
       "2000-07-05  19.103182  19.845534  18.459811  18.633026  260400.0  9.393884   \n",
       "2000-07-06  18.732009  19.004204  18.162872  18.855734  326600.0  9.895240   \n",
       "2000-07-07  19.004197  19.598078  18.905217  19.548588  485800.0  9.974403   \n",
       "2000-07-10  19.412495  19.796044  18.738193  19.697063  289600.0  9.974402   \n",
       "\n",
       "                                                     ...     AVIFY            \\\n",
       "                 High       Low      Close   Volume  ...      Open      High   \n",
       "Date                                                 ...                       \n",
       "2000-07-03   9.261945  9.011265   9.235558  33600.0  ...  0.370049  0.430465   \n",
       "2000-07-05   9.512626  9.367496   9.446658  20300.0  ...  0.377600  0.377600   \n",
       "2000-07-06   9.987596  9.763304   9.908434  47400.0  ...  0.381377  0.381377   \n",
       "2000-07-07  10.172308  9.974403  10.119534  36700.0  ...  0.381377  0.381377   \n",
       "2000-07-10  10.119532  9.974402  10.053564  10500.0  ...  0.396481  0.396481   \n",
       "\n",
       "                                             AAPL                      \\\n",
       "                 Low     Close   Volume      Open      High       Low   \n",
       "Date                                                                    \n",
       "2000-07-03  0.370049  0.370049  47000.0  3.217376  3.352398  3.217376   \n",
       "2000-07-05  0.377600  0.377600   7000.0  3.286816  3.406406  3.132505   \n",
       "2000-07-06  0.381377  0.381377   5000.0  3.240522  3.267527  3.063065   \n",
       "2000-07-07  0.381377  0.381377      0.0  3.246309  3.383260  3.217376   \n",
       "2000-07-10  0.392704  0.396481  28000.0  3.338896  3.595437  3.317678   \n",
       "\n",
       "                                  \n",
       "               Close      Volume  \n",
       "Date                              \n",
       "2000-07-03  3.290673  17707200.0  \n",
       "2000-07-05  3.186514  66304000.0  \n",
       "2000-07-06  3.198087  77386400.0  \n",
       "2000-07-07  3.360113  65900800.0  \n",
       "2000-07-10  3.525998  99449000.0  \n",
       "\n",
       "[5 rows x 470 columns]"
      ]
     },
     "execution_count": 154,
     "metadata": {},
     "output_type": "execute_result"
    }
   ],
   "source": [
    "data.head()"
   ]
  },
  {
   "cell_type": "code",
   "execution_count": 155,
   "metadata": {},
   "outputs": [
    {
     "data": {
      "text/html": [
       "<div>\n",
       "<style scoped>\n",
       "    .dataframe tbody tr th:only-of-type {\n",
       "        vertical-align: middle;\n",
       "    }\n",
       "\n",
       "    .dataframe tbody tr th {\n",
       "        vertical-align: top;\n",
       "    }\n",
       "\n",
       "    .dataframe thead tr th {\n",
       "        text-align: left;\n",
       "    }\n",
       "\n",
       "    .dataframe thead tr:last-of-type th {\n",
       "        text-align: right;\n",
       "    }\n",
       "</style>\n",
       "<table border=\"1\" class=\"dataframe\">\n",
       "  <thead>\n",
       "    <tr>\n",
       "      <th></th>\n",
       "      <th colspan=\"5\" halign=\"left\">CSGP</th>\n",
       "    </tr>\n",
       "    <tr>\n",
       "      <th></th>\n",
       "      <th>Open</th>\n",
       "      <th>High</th>\n",
       "      <th>Low</th>\n",
       "      <th>Close</th>\n",
       "      <th>Volume</th>\n",
       "    </tr>\n",
       "    <tr>\n",
       "      <th>Date</th>\n",
       "      <th></th>\n",
       "      <th></th>\n",
       "      <th></th>\n",
       "      <th></th>\n",
       "      <th></th>\n",
       "    </tr>\n",
       "  </thead>\n",
       "  <tbody>\n",
       "    <tr>\n",
       "      <th>2020-07-29</th>\n",
       "      <td>939.0</td>\n",
       "      <td>939.0</td>\n",
       "      <td>785.429993</td>\n",
       "      <td>829.140015</td>\n",
       "      <td>786100.0</td>\n",
       "    </tr>\n",
       "  </tbody>\n",
       "</table>\n",
       "</div>"
      ],
      "text/plain": [
       "             CSGP                                         \n",
       "             Open   High         Low       Close    Volume\n",
       "Date                                                      \n",
       "2020-07-29  939.0  939.0  785.429993  829.140015  786100.0"
      ]
     },
     "execution_count": 155,
     "metadata": {},
     "output_type": "execute_result"
    }
   ],
   "source": [
    "s=data.stack(level=0)\n",
    "idx=(s['High']-s['Low']).idxmax()\n",
    "data.loc[[idx[0]],[idx[1]]]"
   ]
  },
  {
   "cell_type": "code",
   "execution_count": 162,
   "metadata": {},
   "outputs": [
    {
     "data": {
      "text/html": [
       "<div>\n",
       "<style scoped>\n",
       "    .dataframe tbody tr th:only-of-type {\n",
       "        vertical-align: middle;\n",
       "    }\n",
       "\n",
       "    .dataframe tbody tr th {\n",
       "        vertical-align: top;\n",
       "    }\n",
       "\n",
       "    .dataframe thead th {\n",
       "        text-align: right;\n",
       "    }\n",
       "</style>\n",
       "<table border=\"1\" class=\"dataframe\">\n",
       "  <thead>\n",
       "    <tr style=\"text-align: right;\">\n",
       "      <th></th>\n",
       "      <th></th>\n",
       "      <th>JKHY</th>\n",
       "      <th>KKPNY</th>\n",
       "      <th>FICO</th>\n",
       "      <th>CSCO</th>\n",
       "      <th>AMD</th>\n",
       "      <th>CSGP</th>\n",
       "      <th>NTTYY</th>\n",
       "      <th>OTEX</th>\n",
       "      <th>CHL</th>\n",
       "      <th>SFTBF</th>\n",
       "      <th>...</th>\n",
       "      <th>MXIM</th>\n",
       "      <th>MSFT</th>\n",
       "      <th>ADBE</th>\n",
       "      <th>INTC</th>\n",
       "      <th>KYOCY</th>\n",
       "      <th>CTXS</th>\n",
       "      <th>CERN</th>\n",
       "      <th>AKAM</th>\n",
       "      <th>AVIFY</th>\n",
       "      <th>AAPL</th>\n",
       "    </tr>\n",
       "    <tr>\n",
       "      <th>Date</th>\n",
       "      <th></th>\n",
       "      <th></th>\n",
       "      <th></th>\n",
       "      <th></th>\n",
       "      <th></th>\n",
       "      <th></th>\n",
       "      <th></th>\n",
       "      <th></th>\n",
       "      <th></th>\n",
       "      <th></th>\n",
       "      <th></th>\n",
       "      <th></th>\n",
       "      <th></th>\n",
       "      <th></th>\n",
       "      <th></th>\n",
       "      <th></th>\n",
       "      <th></th>\n",
       "      <th></th>\n",
       "      <th></th>\n",
       "      <th></th>\n",
       "      <th></th>\n",
       "      <th></th>\n",
       "    </tr>\n",
       "  </thead>\n",
       "  <tbody>\n",
       "    <tr>\n",
       "      <th rowspan=\"5\" valign=\"top\">2000-07-03</th>\n",
       "      <th>Open</th>\n",
       "      <td>19.796038</td>\n",
       "      <td>9.050846</td>\n",
       "      <td>12.596734</td>\n",
       "      <td>4.821889e+01</td>\n",
       "      <td>3.850000e+01</td>\n",
       "      <td>25.125000</td>\n",
       "      <td>15.196395</td>\n",
       "      <td>2.388776</td>\n",
       "      <td>2.333760e+01</td>\n",
       "      <td>-0.020245</td>\n",
       "      <td>...</td>\n",
       "      <td>4.027723e+01</td>\n",
       "      <td>2.543147e+01</td>\n",
       "      <td>3.203615e+01</td>\n",
       "      <td>4.246971e+01</td>\n",
       "      <td>53.574716</td>\n",
       "      <td>1.512751e+01</td>\n",
       "      <td>3.350677e+00</td>\n",
       "      <td>1.187500e+02</td>\n",
       "      <td>0.370049</td>\n",
       "      <td>3.217376e+00</td>\n",
       "    </tr>\n",
       "    <tr>\n",
       "      <th>High</th>\n",
       "      <td>19.796038</td>\n",
       "      <td>9.261945</td>\n",
       "      <td>12.596734</td>\n",
       "      <td>4.936017e+01</td>\n",
       "      <td>4.250000e+01</td>\n",
       "      <td>25.937500</td>\n",
       "      <td>15.196395</td>\n",
       "      <td>2.388776</td>\n",
       "      <td>2.359451e+01</td>\n",
       "      <td>-0.020995</td>\n",
       "      <td>...</td>\n",
       "      <td>4.205253e+01</td>\n",
       "      <td>2.555115e+01</td>\n",
       "      <td>3.223793e+01</td>\n",
       "      <td>4.334048e+01</td>\n",
       "      <td>53.574716</td>\n",
       "      <td>1.517615e+01</td>\n",
       "      <td>3.362245e+00</td>\n",
       "      <td>1.278125e+02</td>\n",
       "      <td>0.430465</td>\n",
       "      <td>3.352398e+00</td>\n",
       "    </tr>\n",
       "    <tr>\n",
       "      <th>Low</th>\n",
       "      <td>19.202157</td>\n",
       "      <td>9.011265</td>\n",
       "      <td>12.525263</td>\n",
       "      <td>4.802868e+01</td>\n",
       "      <td>3.800000e+01</td>\n",
       "      <td>24.500000</td>\n",
       "      <td>14.995738</td>\n",
       "      <td>2.354355</td>\n",
       "      <td>2.320500e+01</td>\n",
       "      <td>-0.018745</td>\n",
       "      <td>...</td>\n",
       "      <td>4.020326e+01</td>\n",
       "      <td>2.533174e+01</td>\n",
       "      <td>3.143082e+01</td>\n",
       "      <td>4.234107e+01</td>\n",
       "      <td>52.826246</td>\n",
       "      <td>1.444653e+01</td>\n",
       "      <td>3.300552e+00</td>\n",
       "      <td>1.187500e+02</td>\n",
       "      <td>0.370049</td>\n",
       "      <td>3.217376e+00</td>\n",
       "    </tr>\n",
       "    <tr>\n",
       "      <th>Close</th>\n",
       "      <td>19.325882</td>\n",
       "      <td>9.235558</td>\n",
       "      <td>12.543131</td>\n",
       "      <td>4.916996e+01</td>\n",
       "      <td>4.212500e+01</td>\n",
       "      <td>24.937500</td>\n",
       "      <td>15.156263</td>\n",
       "      <td>2.368123</td>\n",
       "      <td>2.359451e+01</td>\n",
       "      <td>-0.020245</td>\n",
       "      <td>...</td>\n",
       "      <td>4.193233e+01</td>\n",
       "      <td>2.553120e+01</td>\n",
       "      <td>3.175677e+01</td>\n",
       "      <td>4.334048e+01</td>\n",
       "      <td>52.865639</td>\n",
       "      <td>1.468974e+01</td>\n",
       "      <td>3.308264e+00</td>\n",
       "      <td>1.264688e+02</td>\n",
       "      <td>0.370049</td>\n",
       "      <td>3.290673e+00</td>\n",
       "    </tr>\n",
       "    <tr>\n",
       "      <th>Volume</th>\n",
       "      <td>50600.000000</td>\n",
       "      <td>33600.000000</td>\n",
       "      <td>17100.000000</td>\n",
       "      <td>1.487980e+07</td>\n",
       "      <td>3.930000e+06</td>\n",
       "      <td>14100.000000</td>\n",
       "      <td>200000.000000</td>\n",
       "      <td>522400.000000</td>\n",
       "      <td>2.628000e+05</td>\n",
       "      <td>19800.000000</td>\n",
       "      <td>...</td>\n",
       "      <td>1.099900e+06</td>\n",
       "      <td>1.573480e+07</td>\n",
       "      <td>1.652800e+06</td>\n",
       "      <td>1.508380e+07</td>\n",
       "      <td>7400.000000</td>\n",
       "      <td>3.170500e+06</td>\n",
       "      <td>2.088000e+05</td>\n",
       "      <td>1.635700e+06</td>\n",
       "      <td>47000.000000</td>\n",
       "      <td>1.770720e+07</td>\n",
       "    </tr>\n",
       "    <tr>\n",
       "      <th>...</th>\n",
       "      <th>...</th>\n",
       "      <td>...</td>\n",
       "      <td>...</td>\n",
       "      <td>...</td>\n",
       "      <td>...</td>\n",
       "      <td>...</td>\n",
       "      <td>...</td>\n",
       "      <td>...</td>\n",
       "      <td>...</td>\n",
       "      <td>...</td>\n",
       "      <td>...</td>\n",
       "      <td>...</td>\n",
       "      <td>...</td>\n",
       "      <td>...</td>\n",
       "      <td>...</td>\n",
       "      <td>...</td>\n",
       "      <td>...</td>\n",
       "      <td>...</td>\n",
       "      <td>...</td>\n",
       "      <td>...</td>\n",
       "      <td>...</td>\n",
       "      <td>...</td>\n",
       "    </tr>\n",
       "    <tr>\n",
       "      <th rowspan=\"5\" valign=\"top\">2020-08-07</th>\n",
       "      <th>Open</th>\n",
       "      <td>181.550003</td>\n",
       "      <td>2.560000</td>\n",
       "      <td>437.869995</td>\n",
       "      <td>4.733000e+01</td>\n",
       "      <td>8.667000e+01</td>\n",
       "      <td>834.780029</td>\n",
       "      <td>23.840000</td>\n",
       "      <td>47.520000</td>\n",
       "      <td>3.446000e+01</td>\n",
       "      <td>61.939999</td>\n",
       "      <td>...</td>\n",
       "      <td>6.872000e+01</td>\n",
       "      <td>2.143319e+02</td>\n",
       "      <td>4.608700e+02</td>\n",
       "      <td>4.853000e+01</td>\n",
       "      <td>57.279999</td>\n",
       "      <td>1.410300e+02</td>\n",
       "      <td>6.952000e+01</td>\n",
       "      <td>1.093100e+02</td>\n",
       "      <td>5.856000</td>\n",
       "      <td>4.528200e+02</td>\n",
       "    </tr>\n",
       "    <tr>\n",
       "      <th>High</th>\n",
       "      <td>185.399994</td>\n",
       "      <td>2.590000</td>\n",
       "      <td>444.769989</td>\n",
       "      <td>4.760000e+01</td>\n",
       "      <td>8.729000e+01</td>\n",
       "      <td>839.969971</td>\n",
       "      <td>23.840000</td>\n",
       "      <td>47.520000</td>\n",
       "      <td>3.500000e+01</td>\n",
       "      <td>61.939999</td>\n",
       "      <td>...</td>\n",
       "      <td>6.952000e+01</td>\n",
       "      <td>2.151798e+02</td>\n",
       "      <td>4.617900e+02</td>\n",
       "      <td>4.865000e+01</td>\n",
       "      <td>57.299999</td>\n",
       "      <td>1.433100e+02</td>\n",
       "      <td>7.005000e+01</td>\n",
       "      <td>1.096900e+02</td>\n",
       "      <td>5.856000</td>\n",
       "      <td>4.547000e+02</td>\n",
       "    </tr>\n",
       "    <tr>\n",
       "      <th>Low</th>\n",
       "      <td>181.300003</td>\n",
       "      <td>2.550000</td>\n",
       "      <td>435.839996</td>\n",
       "      <td>4.703000e+01</td>\n",
       "      <td>8.267000e+01</td>\n",
       "      <td>826.570007</td>\n",
       "      <td>23.660000</td>\n",
       "      <td>45.369999</td>\n",
       "      <td>3.440000e+01</td>\n",
       "      <td>60.810001</td>\n",
       "      <td>...</td>\n",
       "      <td>6.832000e+01</td>\n",
       "      <td>2.104213e+02</td>\n",
       "      <td>4.450900e+02</td>\n",
       "      <td>4.770000e+01</td>\n",
       "      <td>56.959999</td>\n",
       "      <td>1.403200e+02</td>\n",
       "      <td>6.924000e+01</td>\n",
       "      <td>1.079600e+02</td>\n",
       "      <td>5.856000</td>\n",
       "      <td>4.411700e+02</td>\n",
       "    </tr>\n",
       "    <tr>\n",
       "      <th>Close</th>\n",
       "      <td>184.000000</td>\n",
       "      <td>2.570000</td>\n",
       "      <td>441.720001</td>\n",
       "      <td>4.743000e+01</td>\n",
       "      <td>8.485000e+01</td>\n",
       "      <td>830.419983</td>\n",
       "      <td>23.809999</td>\n",
       "      <td>45.810001</td>\n",
       "      <td>3.492000e+01</td>\n",
       "      <td>61.900002</td>\n",
       "      <td>...</td>\n",
       "      <td>6.869000e+01</td>\n",
       "      <td>2.119676e+02</td>\n",
       "      <td>4.495700e+02</td>\n",
       "      <td>4.803000e+01</td>\n",
       "      <td>57.220001</td>\n",
       "      <td>1.411400e+02</td>\n",
       "      <td>7.004000e+01</td>\n",
       "      <td>1.092200e+02</td>\n",
       "      <td>5.856000</td>\n",
       "      <td>4.444500e+02</td>\n",
       "    </tr>\n",
       "    <tr>\n",
       "      <th>Volume</th>\n",
       "      <td>665300.000000</td>\n",
       "      <td>188500.000000</td>\n",
       "      <td>189600.000000</td>\n",
       "      <td>1.704650e+07</td>\n",
       "      <td>6.649800e+07</td>\n",
       "      <td>153600.000000</td>\n",
       "      <td>68800.000000</td>\n",
       "      <td>922400.000000</td>\n",
       "      <td>1.217700e+06</td>\n",
       "      <td>4000.000000</td>\n",
       "      <td>...</td>\n",
       "      <td>5.036800e+06</td>\n",
       "      <td>2.778960e+07</td>\n",
       "      <td>3.288300e+06</td>\n",
       "      <td>3.674600e+07</td>\n",
       "      <td>20900.000000</td>\n",
       "      <td>1.140100e+06</td>\n",
       "      <td>1.861900e+06</td>\n",
       "      <td>1.697200e+06</td>\n",
       "      <td>700.000000</td>\n",
       "      <td>4.945330e+07</td>\n",
       "    </tr>\n",
       "  </tbody>\n",
       "</table>\n",
       "<p>25285 rows × 94 columns</p>\n",
       "</div>"
      ],
      "text/plain": [
       "                            JKHY          KKPNY           FICO          CSCO  \\\n",
       "Date                                                                           \n",
       "2000-07-03 Open        19.796038       9.050846      12.596734  4.821889e+01   \n",
       "           High        19.796038       9.261945      12.596734  4.936017e+01   \n",
       "           Low         19.202157       9.011265      12.525263  4.802868e+01   \n",
       "           Close       19.325882       9.235558      12.543131  4.916996e+01   \n",
       "           Volume   50600.000000   33600.000000   17100.000000  1.487980e+07   \n",
       "...                          ...            ...            ...           ...   \n",
       "2020-08-07 Open       181.550003       2.560000     437.869995  4.733000e+01   \n",
       "           High       185.399994       2.590000     444.769989  4.760000e+01   \n",
       "           Low        181.300003       2.550000     435.839996  4.703000e+01   \n",
       "           Close      184.000000       2.570000     441.720001  4.743000e+01   \n",
       "           Volume  665300.000000  188500.000000  189600.000000  1.704650e+07   \n",
       "\n",
       "                            AMD           CSGP          NTTYY           OTEX  \\\n",
       "Date                                                                           \n",
       "2000-07-03 Open    3.850000e+01      25.125000      15.196395       2.388776   \n",
       "           High    4.250000e+01      25.937500      15.196395       2.388776   \n",
       "           Low     3.800000e+01      24.500000      14.995738       2.354355   \n",
       "           Close   4.212500e+01      24.937500      15.156263       2.368123   \n",
       "           Volume  3.930000e+06   14100.000000  200000.000000  522400.000000   \n",
       "...                         ...            ...            ...            ...   \n",
       "2020-08-07 Open    8.667000e+01     834.780029      23.840000      47.520000   \n",
       "           High    8.729000e+01     839.969971      23.840000      47.520000   \n",
       "           Low     8.267000e+01     826.570007      23.660000      45.369999   \n",
       "           Close   8.485000e+01     830.419983      23.809999      45.810001   \n",
       "           Volume  6.649800e+07  153600.000000   68800.000000  922400.000000   \n",
       "\n",
       "                            CHL         SFTBF  ...          MXIM  \\\n",
       "Date                                           ...                 \n",
       "2000-07-03 Open    2.333760e+01     -0.020245  ...  4.027723e+01   \n",
       "           High    2.359451e+01     -0.020995  ...  4.205253e+01   \n",
       "           Low     2.320500e+01     -0.018745  ...  4.020326e+01   \n",
       "           Close   2.359451e+01     -0.020245  ...  4.193233e+01   \n",
       "           Volume  2.628000e+05  19800.000000  ...  1.099900e+06   \n",
       "...                         ...           ...  ...           ...   \n",
       "2020-08-07 Open    3.446000e+01     61.939999  ...  6.872000e+01   \n",
       "           High    3.500000e+01     61.939999  ...  6.952000e+01   \n",
       "           Low     3.440000e+01     60.810001  ...  6.832000e+01   \n",
       "           Close   3.492000e+01     61.900002  ...  6.869000e+01   \n",
       "           Volume  1.217700e+06   4000.000000  ...  5.036800e+06   \n",
       "\n",
       "                           MSFT          ADBE          INTC         KYOCY  \\\n",
       "Date                                                                        \n",
       "2000-07-03 Open    2.543147e+01  3.203615e+01  4.246971e+01     53.574716   \n",
       "           High    2.555115e+01  3.223793e+01  4.334048e+01     53.574716   \n",
       "           Low     2.533174e+01  3.143082e+01  4.234107e+01     52.826246   \n",
       "           Close   2.553120e+01  3.175677e+01  4.334048e+01     52.865639   \n",
       "           Volume  1.573480e+07  1.652800e+06  1.508380e+07   7400.000000   \n",
       "...                         ...           ...           ...           ...   \n",
       "2020-08-07 Open    2.143319e+02  4.608700e+02  4.853000e+01     57.279999   \n",
       "           High    2.151798e+02  4.617900e+02  4.865000e+01     57.299999   \n",
       "           Low     2.104213e+02  4.450900e+02  4.770000e+01     56.959999   \n",
       "           Close   2.119676e+02  4.495700e+02  4.803000e+01     57.220001   \n",
       "           Volume  2.778960e+07  3.288300e+06  3.674600e+07  20900.000000   \n",
       "\n",
       "                           CTXS          CERN          AKAM         AVIFY  \\\n",
       "Date                                                                        \n",
       "2000-07-03 Open    1.512751e+01  3.350677e+00  1.187500e+02      0.370049   \n",
       "           High    1.517615e+01  3.362245e+00  1.278125e+02      0.430465   \n",
       "           Low     1.444653e+01  3.300552e+00  1.187500e+02      0.370049   \n",
       "           Close   1.468974e+01  3.308264e+00  1.264688e+02      0.370049   \n",
       "           Volume  3.170500e+06  2.088000e+05  1.635700e+06  47000.000000   \n",
       "...                         ...           ...           ...           ...   \n",
       "2020-08-07 Open    1.410300e+02  6.952000e+01  1.093100e+02      5.856000   \n",
       "           High    1.433100e+02  7.005000e+01  1.096900e+02      5.856000   \n",
       "           Low     1.403200e+02  6.924000e+01  1.079600e+02      5.856000   \n",
       "           Close   1.411400e+02  7.004000e+01  1.092200e+02      5.856000   \n",
       "           Volume  1.140100e+06  1.861900e+06  1.697200e+06    700.000000   \n",
       "\n",
       "                           AAPL  \n",
       "Date                             \n",
       "2000-07-03 Open    3.217376e+00  \n",
       "           High    3.352398e+00  \n",
       "           Low     3.217376e+00  \n",
       "           Close   3.290673e+00  \n",
       "           Volume  1.770720e+07  \n",
       "...                         ...  \n",
       "2020-08-07 Open    4.528200e+02  \n",
       "           High    4.547000e+02  \n",
       "           Low     4.411700e+02  \n",
       "           Close   4.444500e+02  \n",
       "           Volume  4.945330e+07  \n",
       "\n",
       "[25285 rows x 94 columns]"
      ]
     },
     "execution_count": 162,
     "metadata": {},
     "output_type": "execute_result"
    }
   ],
   "source": [
    "data.stack(level=1)"
   ]
  },
  {
   "cell_type": "markdown",
   "metadata": {},
   "source": [
    "High(939.0) is 119.5 percent of Low (785.429993)"
   ]
  },
  {
   "cell_type": "markdown",
   "metadata": {},
   "source": [
    "## 2. For that company find the month when standard deviation in Close value was the lowest.  Print out the month and the year."
   ]
  },
  {
   "cell_type": "code",
   "execution_count": 156,
   "metadata": {},
   "outputs": [
    {
     "data": {
      "text/html": [
       "<div>\n",
       "<style scoped>\n",
       "    .dataframe tbody tr th:only-of-type {\n",
       "        vertical-align: middle;\n",
       "    }\n",
       "\n",
       "    .dataframe tbody tr th {\n",
       "        vertical-align: top;\n",
       "    }\n",
       "\n",
       "    .dataframe thead tr th {\n",
       "        text-align: left;\n",
       "    }\n",
       "\n",
       "    .dataframe thead tr:last-of-type th {\n",
       "        text-align: right;\n",
       "    }\n",
       "</style>\n",
       "<table border=\"1\" class=\"dataframe\">\n",
       "  <thead>\n",
       "    <tr>\n",
       "      <th></th>\n",
       "      <th colspan=\"5\" halign=\"left\">JKHY</th>\n",
       "      <th colspan=\"5\" halign=\"left\">KKPNY</th>\n",
       "      <th>...</th>\n",
       "      <th colspan=\"5\" halign=\"left\">AVIFY</th>\n",
       "      <th colspan=\"5\" halign=\"left\">AAPL</th>\n",
       "    </tr>\n",
       "    <tr>\n",
       "      <th></th>\n",
       "      <th>Open</th>\n",
       "      <th>High</th>\n",
       "      <th>Low</th>\n",
       "      <th>Close</th>\n",
       "      <th>Volume</th>\n",
       "      <th>Open</th>\n",
       "      <th>High</th>\n",
       "      <th>Low</th>\n",
       "      <th>Close</th>\n",
       "      <th>Volume</th>\n",
       "      <th>...</th>\n",
       "      <th>Open</th>\n",
       "      <th>High</th>\n",
       "      <th>Low</th>\n",
       "      <th>Close</th>\n",
       "      <th>Volume</th>\n",
       "      <th>Open</th>\n",
       "      <th>High</th>\n",
       "      <th>Low</th>\n",
       "      <th>Close</th>\n",
       "      <th>Volume</th>\n",
       "    </tr>\n",
       "    <tr>\n",
       "      <th>Date</th>\n",
       "      <th></th>\n",
       "      <th></th>\n",
       "      <th></th>\n",
       "      <th></th>\n",
       "      <th></th>\n",
       "      <th></th>\n",
       "      <th></th>\n",
       "      <th></th>\n",
       "      <th></th>\n",
       "      <th></th>\n",
       "      <th></th>\n",
       "      <th></th>\n",
       "      <th></th>\n",
       "      <th></th>\n",
       "      <th></th>\n",
       "      <th></th>\n",
       "      <th></th>\n",
       "      <th></th>\n",
       "      <th></th>\n",
       "      <th></th>\n",
       "      <th></th>\n",
       "    </tr>\n",
       "  </thead>\n",
       "  <tbody>\n",
       "    <tr>\n",
       "      <th>2000-07-03</th>\n",
       "      <td>19.796038</td>\n",
       "      <td>19.796038</td>\n",
       "      <td>19.202157</td>\n",
       "      <td>19.325882</td>\n",
       "      <td>50600.0</td>\n",
       "      <td>9.050846</td>\n",
       "      <td>9.261945</td>\n",
       "      <td>9.011265</td>\n",
       "      <td>9.235558</td>\n",
       "      <td>33600.0</td>\n",
       "      <td>...</td>\n",
       "      <td>0.370049</td>\n",
       "      <td>0.430465</td>\n",
       "      <td>0.370049</td>\n",
       "      <td>0.370049</td>\n",
       "      <td>47000.0</td>\n",
       "      <td>3.217376</td>\n",
       "      <td>3.352398</td>\n",
       "      <td>3.217376</td>\n",
       "      <td>3.290673</td>\n",
       "      <td>17707200.0</td>\n",
       "    </tr>\n",
       "    <tr>\n",
       "      <th>2000-07-05</th>\n",
       "      <td>19.103182</td>\n",
       "      <td>19.845534</td>\n",
       "      <td>18.459811</td>\n",
       "      <td>18.633026</td>\n",
       "      <td>260400.0</td>\n",
       "      <td>9.393884</td>\n",
       "      <td>9.512626</td>\n",
       "      <td>9.367496</td>\n",
       "      <td>9.446658</td>\n",
       "      <td>20300.0</td>\n",
       "      <td>...</td>\n",
       "      <td>0.377600</td>\n",
       "      <td>0.377600</td>\n",
       "      <td>0.377600</td>\n",
       "      <td>0.377600</td>\n",
       "      <td>7000.0</td>\n",
       "      <td>3.286816</td>\n",
       "      <td>3.406406</td>\n",
       "      <td>3.132505</td>\n",
       "      <td>3.186514</td>\n",
       "      <td>66304000.0</td>\n",
       "    </tr>\n",
       "    <tr>\n",
       "      <th>2000-07-06</th>\n",
       "      <td>18.732009</td>\n",
       "      <td>19.004204</td>\n",
       "      <td>18.162872</td>\n",
       "      <td>18.855734</td>\n",
       "      <td>326600.0</td>\n",
       "      <td>9.895240</td>\n",
       "      <td>9.987596</td>\n",
       "      <td>9.763304</td>\n",
       "      <td>9.908434</td>\n",
       "      <td>47400.0</td>\n",
       "      <td>...</td>\n",
       "      <td>0.381377</td>\n",
       "      <td>0.381377</td>\n",
       "      <td>0.381377</td>\n",
       "      <td>0.381377</td>\n",
       "      <td>5000.0</td>\n",
       "      <td>3.240522</td>\n",
       "      <td>3.267527</td>\n",
       "      <td>3.063065</td>\n",
       "      <td>3.198087</td>\n",
       "      <td>77386400.0</td>\n",
       "    </tr>\n",
       "    <tr>\n",
       "      <th>2000-07-07</th>\n",
       "      <td>19.004197</td>\n",
       "      <td>19.598078</td>\n",
       "      <td>18.905217</td>\n",
       "      <td>19.548588</td>\n",
       "      <td>485800.0</td>\n",
       "      <td>9.974403</td>\n",
       "      <td>10.172308</td>\n",
       "      <td>9.974403</td>\n",
       "      <td>10.119534</td>\n",
       "      <td>36700.0</td>\n",
       "      <td>...</td>\n",
       "      <td>0.381377</td>\n",
       "      <td>0.381377</td>\n",
       "      <td>0.381377</td>\n",
       "      <td>0.381377</td>\n",
       "      <td>0.0</td>\n",
       "      <td>3.246309</td>\n",
       "      <td>3.383260</td>\n",
       "      <td>3.217376</td>\n",
       "      <td>3.360113</td>\n",
       "      <td>65900800.0</td>\n",
       "    </tr>\n",
       "    <tr>\n",
       "      <th>2000-07-10</th>\n",
       "      <td>19.412495</td>\n",
       "      <td>19.796044</td>\n",
       "      <td>18.738193</td>\n",
       "      <td>19.697063</td>\n",
       "      <td>289600.0</td>\n",
       "      <td>9.974402</td>\n",
       "      <td>10.119532</td>\n",
       "      <td>9.974402</td>\n",
       "      <td>10.053564</td>\n",
       "      <td>10500.0</td>\n",
       "      <td>...</td>\n",
       "      <td>0.396481</td>\n",
       "      <td>0.396481</td>\n",
       "      <td>0.392704</td>\n",
       "      <td>0.396481</td>\n",
       "      <td>28000.0</td>\n",
       "      <td>3.338896</td>\n",
       "      <td>3.595437</td>\n",
       "      <td>3.317678</td>\n",
       "      <td>3.525998</td>\n",
       "      <td>99449000.0</td>\n",
       "    </tr>\n",
       "  </tbody>\n",
       "</table>\n",
       "<p>5 rows × 470 columns</p>\n",
       "</div>"
      ],
      "text/plain": [
       "                 JKHY                                                KKPNY  \\\n",
       "                 Open       High        Low      Close    Volume      Open   \n",
       "Date                                                                         \n",
       "2000-07-03  19.796038  19.796038  19.202157  19.325882   50600.0  9.050846   \n",
       "2000-07-05  19.103182  19.845534  18.459811  18.633026  260400.0  9.393884   \n",
       "2000-07-06  18.732009  19.004204  18.162872  18.855734  326600.0  9.895240   \n",
       "2000-07-07  19.004197  19.598078  18.905217  19.548588  485800.0  9.974403   \n",
       "2000-07-10  19.412495  19.796044  18.738193  19.697063  289600.0  9.974402   \n",
       "\n",
       "                                                     ...     AVIFY            \\\n",
       "                 High       Low      Close   Volume  ...      Open      High   \n",
       "Date                                                 ...                       \n",
       "2000-07-03   9.261945  9.011265   9.235558  33600.0  ...  0.370049  0.430465   \n",
       "2000-07-05   9.512626  9.367496   9.446658  20300.0  ...  0.377600  0.377600   \n",
       "2000-07-06   9.987596  9.763304   9.908434  47400.0  ...  0.381377  0.381377   \n",
       "2000-07-07  10.172308  9.974403  10.119534  36700.0  ...  0.381377  0.381377   \n",
       "2000-07-10  10.119532  9.974402  10.053564  10500.0  ...  0.396481  0.396481   \n",
       "\n",
       "                                             AAPL                      \\\n",
       "                 Low     Close   Volume      Open      High       Low   \n",
       "Date                                                                    \n",
       "2000-07-03  0.370049  0.370049  47000.0  3.217376  3.352398  3.217376   \n",
       "2000-07-05  0.377600  0.377600   7000.0  3.286816  3.406406  3.132505   \n",
       "2000-07-06  0.381377  0.381377   5000.0  3.240522  3.267527  3.063065   \n",
       "2000-07-07  0.381377  0.381377      0.0  3.246309  3.383260  3.217376   \n",
       "2000-07-10  0.392704  0.396481  28000.0  3.338896  3.595437  3.317678   \n",
       "\n",
       "                                  \n",
       "               Close      Volume  \n",
       "Date                              \n",
       "2000-07-03  3.290673  17707200.0  \n",
       "2000-07-05  3.186514  66304000.0  \n",
       "2000-07-06  3.198087  77386400.0  \n",
       "2000-07-07  3.360113  65900800.0  \n",
       "2000-07-10  3.525998  99449000.0  \n",
       "\n",
       "[5 rows x 470 columns]"
      ]
     },
     "execution_count": 156,
     "metadata": {},
     "output_type": "execute_result"
    }
   ],
   "source": [
    "data.head()"
   ]
  },
  {
   "cell_type": "code",
   "execution_count": 157,
   "metadata": {},
   "outputs": [
    {
     "data": {
      "text/html": [
       "<div>\n",
       "<style scoped>\n",
       "    .dataframe tbody tr th:only-of-type {\n",
       "        vertical-align: middle;\n",
       "    }\n",
       "\n",
       "    .dataframe tbody tr th {\n",
       "        vertical-align: top;\n",
       "    }\n",
       "\n",
       "    .dataframe thead th {\n",
       "        text-align: right;\n",
       "    }\n",
       "</style>\n",
       "<table border=\"1\" class=\"dataframe\">\n",
       "  <thead>\n",
       "    <tr style=\"text-align: right;\">\n",
       "      <th></th>\n",
       "      <th>Date</th>\n",
       "      <th>level_1</th>\n",
       "      <th>Close</th>\n",
       "    </tr>\n",
       "  </thead>\n",
       "  <tbody>\n",
       "    <tr>\n",
       "      <th>0</th>\n",
       "      <td>2000-07-03</td>\n",
       "      <td>CSGP</td>\n",
       "      <td>24.937500</td>\n",
       "    </tr>\n",
       "    <tr>\n",
       "      <th>1</th>\n",
       "      <td>2000-07-05</td>\n",
       "      <td>CSGP</td>\n",
       "      <td>25.625000</td>\n",
       "    </tr>\n",
       "    <tr>\n",
       "      <th>2</th>\n",
       "      <td>2000-07-06</td>\n",
       "      <td>CSGP</td>\n",
       "      <td>27.500000</td>\n",
       "    </tr>\n",
       "    <tr>\n",
       "      <th>3</th>\n",
       "      <td>2000-07-07</td>\n",
       "      <td>CSGP</td>\n",
       "      <td>26.375000</td>\n",
       "    </tr>\n",
       "    <tr>\n",
       "      <th>4</th>\n",
       "      <td>2000-07-10</td>\n",
       "      <td>CSGP</td>\n",
       "      <td>26.937500</td>\n",
       "    </tr>\n",
       "    <tr>\n",
       "      <th>...</th>\n",
       "      <td>...</td>\n",
       "      <td>...</td>\n",
       "      <td>...</td>\n",
       "    </tr>\n",
       "    <tr>\n",
       "      <th>5052</th>\n",
       "      <td>2020-08-03</td>\n",
       "      <td>CSGP</td>\n",
       "      <td>835.000000</td>\n",
       "    </tr>\n",
       "    <tr>\n",
       "      <th>5053</th>\n",
       "      <td>2020-08-04</td>\n",
       "      <td>CSGP</td>\n",
       "      <td>829.369995</td>\n",
       "    </tr>\n",
       "    <tr>\n",
       "      <th>5054</th>\n",
       "      <td>2020-08-05</td>\n",
       "      <td>CSGP</td>\n",
       "      <td>840.849976</td>\n",
       "    </tr>\n",
       "    <tr>\n",
       "      <th>5055</th>\n",
       "      <td>2020-08-06</td>\n",
       "      <td>CSGP</td>\n",
       "      <td>831.500000</td>\n",
       "    </tr>\n",
       "    <tr>\n",
       "      <th>5056</th>\n",
       "      <td>2020-08-07</td>\n",
       "      <td>CSGP</td>\n",
       "      <td>830.419983</td>\n",
       "    </tr>\n",
       "  </tbody>\n",
       "</table>\n",
       "<p>5057 rows × 3 columns</p>\n",
       "</div>"
      ],
      "text/plain": [
       "           Date level_1       Close\n",
       "0    2000-07-03    CSGP   24.937500\n",
       "1    2000-07-05    CSGP   25.625000\n",
       "2    2000-07-06    CSGP   27.500000\n",
       "3    2000-07-07    CSGP   26.375000\n",
       "4    2000-07-10    CSGP   26.937500\n",
       "...         ...     ...         ...\n",
       "5052 2020-08-03    CSGP  835.000000\n",
       "5053 2020-08-04    CSGP  829.369995\n",
       "5054 2020-08-05    CSGP  840.849976\n",
       "5055 2020-08-06    CSGP  831.500000\n",
       "5056 2020-08-07    CSGP  830.419983\n",
       "\n",
       "[5057 rows x 3 columns]"
      ]
     },
     "execution_count": 157,
     "metadata": {},
     "output_type": "execute_result"
    }
   ],
   "source": [
    "close_value = s[s.index.get_level_values(1) == 'CSGP']['Close'].reset_index()#.min()\n",
    "close_value['Date'] = pd.to_datetime(close_value['Date'])\n",
    "close_value"
   ]
  },
  {
   "cell_type": "code",
   "execution_count": 159,
   "metadata": {},
   "outputs": [
    {
     "data": {
      "text/plain": [
       "(1, 2004)"
      ]
     },
     "execution_count": 159,
     "metadata": {},
     "output_type": "execute_result"
    }
   ],
   "source": [
    "std = close_value.groupby([close_value['Date'].dt.month, close_value['Date'].dt.year])['Close'].std()\n",
    "std.idxmin()"
   ]
  },
  {
   "cell_type": "markdown",
   "metadata": {},
   "source": [
    "## 3. The volatility of a stock is the fluctuation of price during a day. Find the company among all in TICKERS with the highest _median_ volatility in percent during the month you identified in (2). What is the name of this company?"
   ]
  },
  {
   "cell_type": "code",
   "execution_count": 183,
   "metadata": {},
   "outputs": [
    {
     "data": {
      "text/html": [
       "<div>\n",
       "<style scoped>\n",
       "    .dataframe tbody tr th:only-of-type {\n",
       "        vertical-align: middle;\n",
       "    }\n",
       "\n",
       "    .dataframe tbody tr th {\n",
       "        vertical-align: top;\n",
       "    }\n",
       "\n",
       "    .dataframe thead th {\n",
       "        text-align: right;\n",
       "    }\n",
       "</style>\n",
       "<table border=\"1\" class=\"dataframe\">\n",
       "  <thead>\n",
       "    <tr style=\"text-align: right;\">\n",
       "      <th></th>\n",
       "      <th>Date</th>\n",
       "      <th>level_1</th>\n",
       "      <th>Close</th>\n",
       "      <th>High</th>\n",
       "      <th>Low</th>\n",
       "      <th>Open</th>\n",
       "      <th>Volume</th>\n",
       "    </tr>\n",
       "  </thead>\n",
       "  <tbody>\n",
       "    <tr>\n",
       "      <th>0</th>\n",
       "      <td>2000-07-03</td>\n",
       "      <td>AAPL</td>\n",
       "      <td>3.290673</td>\n",
       "      <td>3.352398</td>\n",
       "      <td>3.217376</td>\n",
       "      <td>3.217376</td>\n",
       "      <td>17707200.0</td>\n",
       "    </tr>\n",
       "    <tr>\n",
       "      <th>1</th>\n",
       "      <td>2000-07-03</td>\n",
       "      <td>ADBE</td>\n",
       "      <td>31.756767</td>\n",
       "      <td>32.237930</td>\n",
       "      <td>31.430818</td>\n",
       "      <td>32.036152</td>\n",
       "      <td>1652800.0</td>\n",
       "    </tr>\n",
       "    <tr>\n",
       "      <th>2</th>\n",
       "      <td>2000-07-03</td>\n",
       "      <td>ADI</td>\n",
       "      <td>54.067356</td>\n",
       "      <td>54.151770</td>\n",
       "      <td>51.745963</td>\n",
       "      <td>51.999206</td>\n",
       "      <td>1735700.0</td>\n",
       "    </tr>\n",
       "    <tr>\n",
       "      <th>3</th>\n",
       "      <td>2000-07-03</td>\n",
       "      <td>ADP</td>\n",
       "      <td>26.978115</td>\n",
       "      <td>27.816146</td>\n",
       "      <td>26.784724</td>\n",
       "      <td>27.751682</td>\n",
       "      <td>682700.0</td>\n",
       "    </tr>\n",
       "    <tr>\n",
       "      <th>4</th>\n",
       "      <td>2000-07-03</td>\n",
       "      <td>ADSK</td>\n",
       "      <td>8.714822</td>\n",
       "      <td>8.714822</td>\n",
       "      <td>8.109626</td>\n",
       "      <td>8.238230</td>\n",
       "      <td>643600.0</td>\n",
       "    </tr>\n",
       "    <tr>\n",
       "      <th>...</th>\n",
       "      <td>...</td>\n",
       "      <td>...</td>\n",
       "      <td>...</td>\n",
       "      <td>...</td>\n",
       "      <td>...</td>\n",
       "      <td>...</td>\n",
       "      <td>...</td>\n",
       "    </tr>\n",
       "    <tr>\n",
       "      <th>475353</th>\n",
       "      <td>2020-08-07</td>\n",
       "      <td>VRSN</td>\n",
       "      <td>210.399994</td>\n",
       "      <td>212.190002</td>\n",
       "      <td>208.820007</td>\n",
       "      <td>211.309998</td>\n",
       "      <td>409000.0</td>\n",
       "    </tr>\n",
       "    <tr>\n",
       "      <th>475354</th>\n",
       "      <td>2020-08-07</td>\n",
       "      <td>VZ</td>\n",
       "      <td>58.529999</td>\n",
       "      <td>58.549999</td>\n",
       "      <td>57.650002</td>\n",
       "      <td>57.820000</td>\n",
       "      <td>12779500.0</td>\n",
       "    </tr>\n",
       "    <tr>\n",
       "      <th>475355</th>\n",
       "      <td>2020-08-07</td>\n",
       "      <td>WDC</td>\n",
       "      <td>36.990002</td>\n",
       "      <td>37.900002</td>\n",
       "      <td>36.500000</td>\n",
       "      <td>37.389999</td>\n",
       "      <td>10240900.0</td>\n",
       "    </tr>\n",
       "    <tr>\n",
       "      <th>475356</th>\n",
       "      <td>2020-08-07</td>\n",
       "      <td>XLNX</td>\n",
       "      <td>107.069649</td>\n",
       "      <td>108.743546</td>\n",
       "      <td>106.202806</td>\n",
       "      <td>108.305142</td>\n",
       "      <td>2165000.0</td>\n",
       "    </tr>\n",
       "    <tr>\n",
       "      <th>475357</th>\n",
       "      <td>2020-08-07</td>\n",
       "      <td>ZBRA</td>\n",
       "      <td>283.040009</td>\n",
       "      <td>285.019989</td>\n",
       "      <td>281.260010</td>\n",
       "      <td>284.730011</td>\n",
       "      <td>195100.0</td>\n",
       "    </tr>\n",
       "  </tbody>\n",
       "</table>\n",
       "<p>475358 rows × 7 columns</p>\n",
       "</div>"
      ],
      "text/plain": [
       "             Date level_1       Close        High         Low        Open  \\\n",
       "0      2000-07-03    AAPL    3.290673    3.352398    3.217376    3.217376   \n",
       "1      2000-07-03    ADBE   31.756767   32.237930   31.430818   32.036152   \n",
       "2      2000-07-03     ADI   54.067356   54.151770   51.745963   51.999206   \n",
       "3      2000-07-03     ADP   26.978115   27.816146   26.784724   27.751682   \n",
       "4      2000-07-03    ADSK    8.714822    8.714822    8.109626    8.238230   \n",
       "...           ...     ...         ...         ...         ...         ...   \n",
       "475353 2020-08-07    VRSN  210.399994  212.190002  208.820007  211.309998   \n",
       "475354 2020-08-07      VZ   58.529999   58.549999   57.650002   57.820000   \n",
       "475355 2020-08-07     WDC   36.990002   37.900002   36.500000   37.389999   \n",
       "475356 2020-08-07    XLNX  107.069649  108.743546  106.202806  108.305142   \n",
       "475357 2020-08-07    ZBRA  283.040009  285.019989  281.260010  284.730011   \n",
       "\n",
       "            Volume  \n",
       "0       17707200.0  \n",
       "1        1652800.0  \n",
       "2        1735700.0  \n",
       "3         682700.0  \n",
       "4         643600.0  \n",
       "...            ...  \n",
       "475353    409000.0  \n",
       "475354  12779500.0  \n",
       "475355  10240900.0  \n",
       "475356   2165000.0  \n",
       "475357    195100.0  \n",
       "\n",
       "[475358 rows x 7 columns]"
      ]
     },
     "execution_count": 183,
     "metadata": {},
     "output_type": "execute_result"
    }
   ],
   "source": [
    "data_sub= s.reset_index()\n",
    "data_sub"
   ]
  },
  {
   "cell_type": "code",
   "execution_count": 244,
   "metadata": {},
   "outputs": [
    {
     "name": "stdout",
     "output_type": "stream",
     "text": [
      "2.8188473583655025\n"
     ]
    },
    {
     "name": "stderr",
     "output_type": "stream",
     "text": [
      "/Users/friends/anaconda3/lib/python3.7/site-packages/ipykernel_launcher.py:12: SettingWithCopyWarning:\n",
      "\n",
      "\n",
      "A value is trying to be set on a copy of a slice from a DataFrame.\n",
      "Try using .loc[row_indexer,col_indexer] = value instead\n",
      "\n",
      "See the caveats in the documentation: https://pandas.pydata.org/pandas-docs/stable/user_guide/indexing.html#returning-a-view-versus-a-copy\n",
      "\n"
     ]
    },
    {
     "data": {
      "text/html": [
       "<div>\n",
       "<style scoped>\n",
       "    .dataframe tbody tr th:only-of-type {\n",
       "        vertical-align: middle;\n",
       "    }\n",
       "\n",
       "    .dataframe tbody tr th {\n",
       "        vertical-align: top;\n",
       "    }\n",
       "\n",
       "    .dataframe thead th {\n",
       "        text-align: right;\n",
       "    }\n",
       "</style>\n",
       "<table border=\"1\" class=\"dataframe\">\n",
       "  <thead>\n",
       "    <tr style=\"text-align: right;\">\n",
       "      <th></th>\n",
       "      <th>Date</th>\n",
       "      <th>level_1</th>\n",
       "      <th>Close</th>\n",
       "      <th>High</th>\n",
       "      <th>Low</th>\n",
       "      <th>Open</th>\n",
       "      <th>Volume</th>\n",
       "      <th>Val_Diff</th>\n",
       "    </tr>\n",
       "  </thead>\n",
       "  <tbody>\n",
       "    <tr>\n",
       "      <th>83896</th>\n",
       "      <td>2004-01-23</td>\n",
       "      <td>LRCX</td>\n",
       "      <td>26.255026</td>\n",
       "      <td>29.091943</td>\n",
       "      <td>26.065297</td>\n",
       "      <td>29.073873</td>\n",
       "      <td>8313600.0</td>\n",
       "      <td>2.818847</td>\n",
       "    </tr>\n",
       "  </tbody>\n",
       "</table>\n",
       "</div>"
      ],
      "text/plain": [
       "            Date level_1      Close       High        Low       Open  \\\n",
       "83896 2004-01-23    LRCX  26.255026  29.091943  26.065297  29.073873   \n",
       "\n",
       "          Volume  Val_Diff  \n",
       "83896  8313600.0  2.818847  "
      ]
     },
     "execution_count": 244,
     "metadata": {},
     "output_type": "execute_result"
    }
   ],
   "source": [
    "from datetime import datetime, timedelta, time,date\n",
    "\n",
    "data_sub['Date'] = pd.to_datetime(data_sub['Date'])\n",
    "start_str= '2004-01-01'\n",
    "start_date= datetime.strptime(start_str,'%Y-%m-%d')\n",
    "end_str= '2004-02-01'\n",
    "end_date= datetime.strptime(end_str,'%Y-%m-%d')\n",
    "\n",
    "mask = (data_sub['Date'] >= start_date.strftime('%Y-%m-%d')) & (data_sub['Date'] < end_date.strftime('%Y-%m-%d'))\n",
    "df = data_sub.loc[mask]\n",
    "df\n",
    "df['Val_Diff'] = df['Open'] - df['Close']\n",
    "print(df['Val_Diff'].max())\n",
    "df[df.Val_Diff == df.Val_Diff.max()]"
   ]
  },
  {
   "cell_type": "markdown",
   "metadata": {},
   "source": [
    "## 4. Create a candlestick chart for the two stocks you found in (1) and (3) and for the month you identified. Make sure that x-axis displays the dates."
   ]
  },
  {
   "cell_type": "code",
   "execution_count": 261,
   "metadata": {},
   "outputs": [
    {
     "data": {
      "text/plain": [
       "(20, 8)"
      ]
     },
     "execution_count": 261,
     "metadata": {},
     "output_type": "execute_result"
    }
   ],
   "source": [
    "df_LRCX = df[df['level_1'] == \"LRCX\"]\n",
    "df_LRCX.shape\n",
    "df_CSGP = df[df['level_1'] == \"CSGP\"]\n",
    "df_CSGP.shape"
   ]
  },
  {
   "cell_type": "code",
   "execution_count": 263,
   "metadata": {},
   "outputs": [
    {
     "data": {
      "application/vnd.plotly.v1+json": {
       "config": {
        "plotlyServerURL": "https://plot.ly"
       },
       "data": [
        {
         "close": [
          28.64924430847168,
          30.59171485900879,
          30.42909049987793,
          30.176116943359375,
          30.600744247436523,
          31.242229461669922,
          31.98306655883789,
          30.98925018310547,
          30.23936653137207,
          30.53750991821289,
          30.93504524230957,
          31.332569122314453,
          30.40199089050293,
          28.929323196411133,
          26.25502586364746,
          25.70391082763672,
          24.628774642944336,
          24.89981460571289,
          23.95116424560547,
          24.03247833251953
         ],
         "high": [
          29.67017390809187,
          30.862757119866597,
          30.763375858582325,
          30.492332344633898,
          30.71819714270493,
          31.901767113428505,
          32.055342880065275,
          32.0734229145867,
          31.287399375199186,
          30.916971901368534,
          31.124774531461174,
          31.39581220931908,
          31.224154510617634,
          31.16994490967257,
          29.091943165079737,
          26.70676871570912,
          25.351555301735978,
          25.559353833172946,
          25.07147499347969,
          24.448076748761252
         ],
         "low": [
          28.59503619091286,
          28.902213044810765,
          30.0405953074014,
          29.742445183769476,
          29.995416722762595,
          30.03157040935527,
          30.935034052373126,
          30.27550276151056,
          29.453339313634142,
          29.516580344128048,
          30.266470935049767,
          30.42005581583667,
          30.085771992618852,
          28.92028649973627,
          26.065296631180214,
          24.89078048157137,
          24.484218511186004,
          24.628772315095507,
          23.23741692313809,
          23.72529614519092
         ],
         "open": [
          29.48947788523582,
          29.100977254556845,
          30.447160444468647,
          30.293566408695977,
          30.58267430612685,
          30.149019912120295,
          31.242216172189817,
          32.0553529669715,
          31.188016385842197,
          29.724383005433456,
          30.907938596366293,
          30.989247045368074,
          31.178977920569956,
          30.519440608680878,
          29.073873222012963,
          26.264065373542937,
          25.306382156778383,
          24.881746383384627,
          24.999196936302152,
          24.005373413668813
         ],
         "type": "candlestick",
         "x": [
          "2004-01-02T00:00:00",
          "2004-01-05T00:00:00",
          "2004-01-06T00:00:00",
          "2004-01-07T00:00:00",
          "2004-01-08T00:00:00",
          "2004-01-09T00:00:00",
          "2004-01-12T00:00:00",
          "2004-01-13T00:00:00",
          "2004-01-14T00:00:00",
          "2004-01-15T00:00:00",
          "2004-01-16T00:00:00",
          "2004-01-20T00:00:00",
          "2004-01-21T00:00:00",
          "2004-01-22T00:00:00",
          "2004-01-23T00:00:00",
          "2004-01-26T00:00:00",
          "2004-01-27T00:00:00",
          "2004-01-28T00:00:00",
          "2004-01-29T00:00:00",
          "2004-01-30T00:00:00"
         ]
        }
       ],
       "layout": {
        "template": {
         "data": {
          "bar": [
           {
            "error_x": {
             "color": "#2a3f5f"
            },
            "error_y": {
             "color": "#2a3f5f"
            },
            "marker": {
             "line": {
              "color": "#E5ECF6",
              "width": 0.5
             }
            },
            "type": "bar"
           }
          ],
          "barpolar": [
           {
            "marker": {
             "line": {
              "color": "#E5ECF6",
              "width": 0.5
             }
            },
            "type": "barpolar"
           }
          ],
          "carpet": [
           {
            "aaxis": {
             "endlinecolor": "#2a3f5f",
             "gridcolor": "white",
             "linecolor": "white",
             "minorgridcolor": "white",
             "startlinecolor": "#2a3f5f"
            },
            "baxis": {
             "endlinecolor": "#2a3f5f",
             "gridcolor": "white",
             "linecolor": "white",
             "minorgridcolor": "white",
             "startlinecolor": "#2a3f5f"
            },
            "type": "carpet"
           }
          ],
          "choropleth": [
           {
            "colorbar": {
             "outlinewidth": 0,
             "ticks": ""
            },
            "type": "choropleth"
           }
          ],
          "contour": [
           {
            "colorbar": {
             "outlinewidth": 0,
             "ticks": ""
            },
            "colorscale": [
             [
              0,
              "#0d0887"
             ],
             [
              0.1111111111111111,
              "#46039f"
             ],
             [
              0.2222222222222222,
              "#7201a8"
             ],
             [
              0.3333333333333333,
              "#9c179e"
             ],
             [
              0.4444444444444444,
              "#bd3786"
             ],
             [
              0.5555555555555556,
              "#d8576b"
             ],
             [
              0.6666666666666666,
              "#ed7953"
             ],
             [
              0.7777777777777778,
              "#fb9f3a"
             ],
             [
              0.8888888888888888,
              "#fdca26"
             ],
             [
              1,
              "#f0f921"
             ]
            ],
            "type": "contour"
           }
          ],
          "contourcarpet": [
           {
            "colorbar": {
             "outlinewidth": 0,
             "ticks": ""
            },
            "type": "contourcarpet"
           }
          ],
          "heatmap": [
           {
            "colorbar": {
             "outlinewidth": 0,
             "ticks": ""
            },
            "colorscale": [
             [
              0,
              "#0d0887"
             ],
             [
              0.1111111111111111,
              "#46039f"
             ],
             [
              0.2222222222222222,
              "#7201a8"
             ],
             [
              0.3333333333333333,
              "#9c179e"
             ],
             [
              0.4444444444444444,
              "#bd3786"
             ],
             [
              0.5555555555555556,
              "#d8576b"
             ],
             [
              0.6666666666666666,
              "#ed7953"
             ],
             [
              0.7777777777777778,
              "#fb9f3a"
             ],
             [
              0.8888888888888888,
              "#fdca26"
             ],
             [
              1,
              "#f0f921"
             ]
            ],
            "type": "heatmap"
           }
          ],
          "heatmapgl": [
           {
            "colorbar": {
             "outlinewidth": 0,
             "ticks": ""
            },
            "colorscale": [
             [
              0,
              "#0d0887"
             ],
             [
              0.1111111111111111,
              "#46039f"
             ],
             [
              0.2222222222222222,
              "#7201a8"
             ],
             [
              0.3333333333333333,
              "#9c179e"
             ],
             [
              0.4444444444444444,
              "#bd3786"
             ],
             [
              0.5555555555555556,
              "#d8576b"
             ],
             [
              0.6666666666666666,
              "#ed7953"
             ],
             [
              0.7777777777777778,
              "#fb9f3a"
             ],
             [
              0.8888888888888888,
              "#fdca26"
             ],
             [
              1,
              "#f0f921"
             ]
            ],
            "type": "heatmapgl"
           }
          ],
          "histogram": [
           {
            "marker": {
             "colorbar": {
              "outlinewidth": 0,
              "ticks": ""
             }
            },
            "type": "histogram"
           }
          ],
          "histogram2d": [
           {
            "colorbar": {
             "outlinewidth": 0,
             "ticks": ""
            },
            "colorscale": [
             [
              0,
              "#0d0887"
             ],
             [
              0.1111111111111111,
              "#46039f"
             ],
             [
              0.2222222222222222,
              "#7201a8"
             ],
             [
              0.3333333333333333,
              "#9c179e"
             ],
             [
              0.4444444444444444,
              "#bd3786"
             ],
             [
              0.5555555555555556,
              "#d8576b"
             ],
             [
              0.6666666666666666,
              "#ed7953"
             ],
             [
              0.7777777777777778,
              "#fb9f3a"
             ],
             [
              0.8888888888888888,
              "#fdca26"
             ],
             [
              1,
              "#f0f921"
             ]
            ],
            "type": "histogram2d"
           }
          ],
          "histogram2dcontour": [
           {
            "colorbar": {
             "outlinewidth": 0,
             "ticks": ""
            },
            "colorscale": [
             [
              0,
              "#0d0887"
             ],
             [
              0.1111111111111111,
              "#46039f"
             ],
             [
              0.2222222222222222,
              "#7201a8"
             ],
             [
              0.3333333333333333,
              "#9c179e"
             ],
             [
              0.4444444444444444,
              "#bd3786"
             ],
             [
              0.5555555555555556,
              "#d8576b"
             ],
             [
              0.6666666666666666,
              "#ed7953"
             ],
             [
              0.7777777777777778,
              "#fb9f3a"
             ],
             [
              0.8888888888888888,
              "#fdca26"
             ],
             [
              1,
              "#f0f921"
             ]
            ],
            "type": "histogram2dcontour"
           }
          ],
          "mesh3d": [
           {
            "colorbar": {
             "outlinewidth": 0,
             "ticks": ""
            },
            "type": "mesh3d"
           }
          ],
          "parcoords": [
           {
            "line": {
             "colorbar": {
              "outlinewidth": 0,
              "ticks": ""
             }
            },
            "type": "parcoords"
           }
          ],
          "pie": [
           {
            "automargin": true,
            "type": "pie"
           }
          ],
          "scatter": [
           {
            "marker": {
             "colorbar": {
              "outlinewidth": 0,
              "ticks": ""
             }
            },
            "type": "scatter"
           }
          ],
          "scatter3d": [
           {
            "line": {
             "colorbar": {
              "outlinewidth": 0,
              "ticks": ""
             }
            },
            "marker": {
             "colorbar": {
              "outlinewidth": 0,
              "ticks": ""
             }
            },
            "type": "scatter3d"
           }
          ],
          "scattercarpet": [
           {
            "marker": {
             "colorbar": {
              "outlinewidth": 0,
              "ticks": ""
             }
            },
            "type": "scattercarpet"
           }
          ],
          "scattergeo": [
           {
            "marker": {
             "colorbar": {
              "outlinewidth": 0,
              "ticks": ""
             }
            },
            "type": "scattergeo"
           }
          ],
          "scattergl": [
           {
            "marker": {
             "colorbar": {
              "outlinewidth": 0,
              "ticks": ""
             }
            },
            "type": "scattergl"
           }
          ],
          "scattermapbox": [
           {
            "marker": {
             "colorbar": {
              "outlinewidth": 0,
              "ticks": ""
             }
            },
            "type": "scattermapbox"
           }
          ],
          "scatterpolar": [
           {
            "marker": {
             "colorbar": {
              "outlinewidth": 0,
              "ticks": ""
             }
            },
            "type": "scatterpolar"
           }
          ],
          "scatterpolargl": [
           {
            "marker": {
             "colorbar": {
              "outlinewidth": 0,
              "ticks": ""
             }
            },
            "type": "scatterpolargl"
           }
          ],
          "scatterternary": [
           {
            "marker": {
             "colorbar": {
              "outlinewidth": 0,
              "ticks": ""
             }
            },
            "type": "scatterternary"
           }
          ],
          "surface": [
           {
            "colorbar": {
             "outlinewidth": 0,
             "ticks": ""
            },
            "colorscale": [
             [
              0,
              "#0d0887"
             ],
             [
              0.1111111111111111,
              "#46039f"
             ],
             [
              0.2222222222222222,
              "#7201a8"
             ],
             [
              0.3333333333333333,
              "#9c179e"
             ],
             [
              0.4444444444444444,
              "#bd3786"
             ],
             [
              0.5555555555555556,
              "#d8576b"
             ],
             [
              0.6666666666666666,
              "#ed7953"
             ],
             [
              0.7777777777777778,
              "#fb9f3a"
             ],
             [
              0.8888888888888888,
              "#fdca26"
             ],
             [
              1,
              "#f0f921"
             ]
            ],
            "type": "surface"
           }
          ],
          "table": [
           {
            "cells": {
             "fill": {
              "color": "#EBF0F8"
             },
             "line": {
              "color": "white"
             }
            },
            "header": {
             "fill": {
              "color": "#C8D4E3"
             },
             "line": {
              "color": "white"
             }
            },
            "type": "table"
           }
          ]
         },
         "layout": {
          "annotationdefaults": {
           "arrowcolor": "#2a3f5f",
           "arrowhead": 0,
           "arrowwidth": 1
          },
          "coloraxis": {
           "colorbar": {
            "outlinewidth": 0,
            "ticks": ""
           }
          },
          "colorscale": {
           "diverging": [
            [
             0,
             "#8e0152"
            ],
            [
             0.1,
             "#c51b7d"
            ],
            [
             0.2,
             "#de77ae"
            ],
            [
             0.3,
             "#f1b6da"
            ],
            [
             0.4,
             "#fde0ef"
            ],
            [
             0.5,
             "#f7f7f7"
            ],
            [
             0.6,
             "#e6f5d0"
            ],
            [
             0.7,
             "#b8e186"
            ],
            [
             0.8,
             "#7fbc41"
            ],
            [
             0.9,
             "#4d9221"
            ],
            [
             1,
             "#276419"
            ]
           ],
           "sequential": [
            [
             0,
             "#0d0887"
            ],
            [
             0.1111111111111111,
             "#46039f"
            ],
            [
             0.2222222222222222,
             "#7201a8"
            ],
            [
             0.3333333333333333,
             "#9c179e"
            ],
            [
             0.4444444444444444,
             "#bd3786"
            ],
            [
             0.5555555555555556,
             "#d8576b"
            ],
            [
             0.6666666666666666,
             "#ed7953"
            ],
            [
             0.7777777777777778,
             "#fb9f3a"
            ],
            [
             0.8888888888888888,
             "#fdca26"
            ],
            [
             1,
             "#f0f921"
            ]
           ],
           "sequentialminus": [
            [
             0,
             "#0d0887"
            ],
            [
             0.1111111111111111,
             "#46039f"
            ],
            [
             0.2222222222222222,
             "#7201a8"
            ],
            [
             0.3333333333333333,
             "#9c179e"
            ],
            [
             0.4444444444444444,
             "#bd3786"
            ],
            [
             0.5555555555555556,
             "#d8576b"
            ],
            [
             0.6666666666666666,
             "#ed7953"
            ],
            [
             0.7777777777777778,
             "#fb9f3a"
            ],
            [
             0.8888888888888888,
             "#fdca26"
            ],
            [
             1,
             "#f0f921"
            ]
           ]
          },
          "colorway": [
           "#636efa",
           "#EF553B",
           "#00cc96",
           "#ab63fa",
           "#FFA15A",
           "#19d3f3",
           "#FF6692",
           "#B6E880",
           "#FF97FF",
           "#FECB52"
          ],
          "font": {
           "color": "#2a3f5f"
          },
          "geo": {
           "bgcolor": "white",
           "lakecolor": "white",
           "landcolor": "#E5ECF6",
           "showlakes": true,
           "showland": true,
           "subunitcolor": "white"
          },
          "hoverlabel": {
           "align": "left"
          },
          "hovermode": "closest",
          "mapbox": {
           "style": "light"
          },
          "paper_bgcolor": "white",
          "plot_bgcolor": "#E5ECF6",
          "polar": {
           "angularaxis": {
            "gridcolor": "white",
            "linecolor": "white",
            "ticks": ""
           },
           "bgcolor": "#E5ECF6",
           "radialaxis": {
            "gridcolor": "white",
            "linecolor": "white",
            "ticks": ""
           }
          },
          "scene": {
           "xaxis": {
            "backgroundcolor": "#E5ECF6",
            "gridcolor": "white",
            "gridwidth": 2,
            "linecolor": "white",
            "showbackground": true,
            "ticks": "",
            "zerolinecolor": "white"
           },
           "yaxis": {
            "backgroundcolor": "#E5ECF6",
            "gridcolor": "white",
            "gridwidth": 2,
            "linecolor": "white",
            "showbackground": true,
            "ticks": "",
            "zerolinecolor": "white"
           },
           "zaxis": {
            "backgroundcolor": "#E5ECF6",
            "gridcolor": "white",
            "gridwidth": 2,
            "linecolor": "white",
            "showbackground": true,
            "ticks": "",
            "zerolinecolor": "white"
           }
          },
          "shapedefaults": {
           "line": {
            "color": "#2a3f5f"
           }
          },
          "ternary": {
           "aaxis": {
            "gridcolor": "white",
            "linecolor": "white",
            "ticks": ""
           },
           "baxis": {
            "gridcolor": "white",
            "linecolor": "white",
            "ticks": ""
           },
           "bgcolor": "#E5ECF6",
           "caxis": {
            "gridcolor": "white",
            "linecolor": "white",
            "ticks": ""
           }
          },
          "title": {
           "x": 0.05
          },
          "xaxis": {
           "automargin": true,
           "gridcolor": "white",
           "linecolor": "white",
           "ticks": "",
           "title": {
            "standoff": 15
           },
           "zerolinecolor": "white",
           "zerolinewidth": 2
          },
          "yaxis": {
           "automargin": true,
           "gridcolor": "white",
           "linecolor": "white",
           "ticks": "",
           "title": {
            "standoff": 15
           },
           "zerolinecolor": "white",
           "zerolinewidth": 2
          }
         }
        }
       }
      },
      "text/html": [
       "<div>\n",
       "        \n",
       "        \n",
       "            <div id=\"724d9df5-02a5-4cae-8367-e2a93ccb409e\" class=\"plotly-graph-div\" style=\"height:525px; width:100%;\"></div>\n",
       "            <script type=\"text/javascript\">\n",
       "                require([\"plotly\"], function(Plotly) {\n",
       "                    window.PLOTLYENV=window.PLOTLYENV || {};\n",
       "                    \n",
       "                if (document.getElementById(\"724d9df5-02a5-4cae-8367-e2a93ccb409e\")) {\n",
       "                    Plotly.newPlot(\n",
       "                        '724d9df5-02a5-4cae-8367-e2a93ccb409e',\n",
       "                        [{\"close\": [28.64924430847168, 30.59171485900879, 30.42909049987793, 30.176116943359375, 30.600744247436523, 31.242229461669922, 31.98306655883789, 30.98925018310547, 30.23936653137207, 30.53750991821289, 30.93504524230957, 31.332569122314453, 30.40199089050293, 28.929323196411133, 26.25502586364746, 25.70391082763672, 24.628774642944336, 24.89981460571289, 23.95116424560547, 24.03247833251953], \"high\": [29.67017390809187, 30.862757119866597, 30.763375858582325, 30.492332344633898, 30.71819714270493, 31.901767113428505, 32.055342880065275, 32.0734229145867, 31.287399375199186, 30.916971901368534, 31.124774531461174, 31.39581220931908, 31.224154510617634, 31.16994490967257, 29.091943165079737, 26.70676871570912, 25.351555301735978, 25.559353833172946, 25.07147499347969, 24.448076748761252], \"low\": [28.59503619091286, 28.902213044810765, 30.0405953074014, 29.742445183769476, 29.995416722762595, 30.03157040935527, 30.935034052373126, 30.27550276151056, 29.453339313634142, 29.516580344128048, 30.266470935049767, 30.42005581583667, 30.085771992618852, 28.92028649973627, 26.065296631180214, 24.89078048157137, 24.484218511186004, 24.628772315095507, 23.23741692313809, 23.72529614519092], \"open\": [29.48947788523582, 29.100977254556845, 30.447160444468647, 30.293566408695977, 30.58267430612685, 30.149019912120295, 31.242216172189817, 32.0553529669715, 31.188016385842197, 29.724383005433456, 30.907938596366293, 30.989247045368074, 31.178977920569956, 30.519440608680878, 29.073873222012963, 26.264065373542937, 25.306382156778383, 24.881746383384627, 24.999196936302152, 24.005373413668813], \"type\": \"candlestick\", \"x\": [\"2004-01-02T00:00:00\", \"2004-01-05T00:00:00\", \"2004-01-06T00:00:00\", \"2004-01-07T00:00:00\", \"2004-01-08T00:00:00\", \"2004-01-09T00:00:00\", \"2004-01-12T00:00:00\", \"2004-01-13T00:00:00\", \"2004-01-14T00:00:00\", \"2004-01-15T00:00:00\", \"2004-01-16T00:00:00\", \"2004-01-20T00:00:00\", \"2004-01-21T00:00:00\", \"2004-01-22T00:00:00\", \"2004-01-23T00:00:00\", \"2004-01-26T00:00:00\", \"2004-01-27T00:00:00\", \"2004-01-28T00:00:00\", \"2004-01-29T00:00:00\", \"2004-01-30T00:00:00\"]}],\n",
       "                        {\"template\": {\"data\": {\"bar\": [{\"error_x\": {\"color\": \"#2a3f5f\"}, \"error_y\": {\"color\": \"#2a3f5f\"}, \"marker\": {\"line\": {\"color\": \"#E5ECF6\", \"width\": 0.5}}, \"type\": \"bar\"}], \"barpolar\": [{\"marker\": {\"line\": {\"color\": \"#E5ECF6\", \"width\": 0.5}}, \"type\": \"barpolar\"}], \"carpet\": [{\"aaxis\": {\"endlinecolor\": \"#2a3f5f\", \"gridcolor\": \"white\", \"linecolor\": \"white\", \"minorgridcolor\": \"white\", \"startlinecolor\": \"#2a3f5f\"}, \"baxis\": {\"endlinecolor\": \"#2a3f5f\", \"gridcolor\": \"white\", \"linecolor\": \"white\", \"minorgridcolor\": \"white\", \"startlinecolor\": \"#2a3f5f\"}, \"type\": \"carpet\"}], \"choropleth\": [{\"colorbar\": {\"outlinewidth\": 0, \"ticks\": \"\"}, \"type\": \"choropleth\"}], \"contour\": [{\"colorbar\": {\"outlinewidth\": 0, \"ticks\": \"\"}, \"colorscale\": [[0.0, \"#0d0887\"], [0.1111111111111111, \"#46039f\"], [0.2222222222222222, \"#7201a8\"], [0.3333333333333333, \"#9c179e\"], [0.4444444444444444, \"#bd3786\"], [0.5555555555555556, \"#d8576b\"], [0.6666666666666666, \"#ed7953\"], [0.7777777777777778, \"#fb9f3a\"], [0.8888888888888888, \"#fdca26\"], [1.0, \"#f0f921\"]], \"type\": \"contour\"}], \"contourcarpet\": [{\"colorbar\": {\"outlinewidth\": 0, \"ticks\": \"\"}, \"type\": \"contourcarpet\"}], \"heatmap\": [{\"colorbar\": {\"outlinewidth\": 0, \"ticks\": \"\"}, \"colorscale\": [[0.0, \"#0d0887\"], [0.1111111111111111, \"#46039f\"], [0.2222222222222222, \"#7201a8\"], [0.3333333333333333, \"#9c179e\"], [0.4444444444444444, \"#bd3786\"], [0.5555555555555556, \"#d8576b\"], [0.6666666666666666, \"#ed7953\"], [0.7777777777777778, \"#fb9f3a\"], [0.8888888888888888, \"#fdca26\"], [1.0, \"#f0f921\"]], \"type\": \"heatmap\"}], \"heatmapgl\": [{\"colorbar\": {\"outlinewidth\": 0, \"ticks\": \"\"}, \"colorscale\": [[0.0, \"#0d0887\"], [0.1111111111111111, \"#46039f\"], [0.2222222222222222, \"#7201a8\"], [0.3333333333333333, \"#9c179e\"], [0.4444444444444444, \"#bd3786\"], [0.5555555555555556, \"#d8576b\"], [0.6666666666666666, \"#ed7953\"], [0.7777777777777778, \"#fb9f3a\"], [0.8888888888888888, \"#fdca26\"], [1.0, \"#f0f921\"]], \"type\": \"heatmapgl\"}], \"histogram\": [{\"marker\": {\"colorbar\": {\"outlinewidth\": 0, \"ticks\": \"\"}}, \"type\": \"histogram\"}], \"histogram2d\": [{\"colorbar\": {\"outlinewidth\": 0, \"ticks\": \"\"}, \"colorscale\": [[0.0, \"#0d0887\"], [0.1111111111111111, \"#46039f\"], [0.2222222222222222, \"#7201a8\"], [0.3333333333333333, \"#9c179e\"], [0.4444444444444444, \"#bd3786\"], [0.5555555555555556, \"#d8576b\"], [0.6666666666666666, \"#ed7953\"], [0.7777777777777778, \"#fb9f3a\"], [0.8888888888888888, \"#fdca26\"], [1.0, \"#f0f921\"]], \"type\": \"histogram2d\"}], \"histogram2dcontour\": [{\"colorbar\": {\"outlinewidth\": 0, \"ticks\": \"\"}, \"colorscale\": [[0.0, \"#0d0887\"], [0.1111111111111111, \"#46039f\"], [0.2222222222222222, \"#7201a8\"], [0.3333333333333333, \"#9c179e\"], [0.4444444444444444, \"#bd3786\"], [0.5555555555555556, \"#d8576b\"], [0.6666666666666666, \"#ed7953\"], [0.7777777777777778, \"#fb9f3a\"], [0.8888888888888888, \"#fdca26\"], [1.0, \"#f0f921\"]], \"type\": \"histogram2dcontour\"}], \"mesh3d\": [{\"colorbar\": {\"outlinewidth\": 0, \"ticks\": \"\"}, \"type\": \"mesh3d\"}], \"parcoords\": [{\"line\": {\"colorbar\": {\"outlinewidth\": 0, \"ticks\": \"\"}}, \"type\": \"parcoords\"}], \"pie\": [{\"automargin\": true, \"type\": \"pie\"}], \"scatter\": [{\"marker\": {\"colorbar\": {\"outlinewidth\": 0, \"ticks\": \"\"}}, \"type\": \"scatter\"}], \"scatter3d\": [{\"line\": {\"colorbar\": {\"outlinewidth\": 0, \"ticks\": \"\"}}, \"marker\": {\"colorbar\": {\"outlinewidth\": 0, \"ticks\": \"\"}}, \"type\": \"scatter3d\"}], \"scattercarpet\": [{\"marker\": {\"colorbar\": {\"outlinewidth\": 0, \"ticks\": \"\"}}, \"type\": \"scattercarpet\"}], \"scattergeo\": [{\"marker\": {\"colorbar\": {\"outlinewidth\": 0, \"ticks\": \"\"}}, \"type\": \"scattergeo\"}], \"scattergl\": [{\"marker\": {\"colorbar\": {\"outlinewidth\": 0, \"ticks\": \"\"}}, \"type\": \"scattergl\"}], \"scattermapbox\": [{\"marker\": {\"colorbar\": {\"outlinewidth\": 0, \"ticks\": \"\"}}, \"type\": \"scattermapbox\"}], \"scatterpolar\": [{\"marker\": {\"colorbar\": {\"outlinewidth\": 0, \"ticks\": \"\"}}, \"type\": \"scatterpolar\"}], \"scatterpolargl\": [{\"marker\": {\"colorbar\": {\"outlinewidth\": 0, \"ticks\": \"\"}}, \"type\": \"scatterpolargl\"}], \"scatterternary\": [{\"marker\": {\"colorbar\": {\"outlinewidth\": 0, \"ticks\": \"\"}}, \"type\": \"scatterternary\"}], \"surface\": [{\"colorbar\": {\"outlinewidth\": 0, \"ticks\": \"\"}, \"colorscale\": [[0.0, \"#0d0887\"], [0.1111111111111111, \"#46039f\"], [0.2222222222222222, \"#7201a8\"], [0.3333333333333333, \"#9c179e\"], [0.4444444444444444, \"#bd3786\"], [0.5555555555555556, \"#d8576b\"], [0.6666666666666666, \"#ed7953\"], [0.7777777777777778, \"#fb9f3a\"], [0.8888888888888888, \"#fdca26\"], [1.0, \"#f0f921\"]], \"type\": \"surface\"}], \"table\": [{\"cells\": {\"fill\": {\"color\": \"#EBF0F8\"}, \"line\": {\"color\": \"white\"}}, \"header\": {\"fill\": {\"color\": \"#C8D4E3\"}, \"line\": {\"color\": \"white\"}}, \"type\": \"table\"}]}, \"layout\": {\"annotationdefaults\": {\"arrowcolor\": \"#2a3f5f\", \"arrowhead\": 0, \"arrowwidth\": 1}, \"coloraxis\": {\"colorbar\": {\"outlinewidth\": 0, \"ticks\": \"\"}}, \"colorscale\": {\"diverging\": [[0, \"#8e0152\"], [0.1, \"#c51b7d\"], [0.2, \"#de77ae\"], [0.3, \"#f1b6da\"], [0.4, \"#fde0ef\"], [0.5, \"#f7f7f7\"], [0.6, \"#e6f5d0\"], [0.7, \"#b8e186\"], [0.8, \"#7fbc41\"], [0.9, \"#4d9221\"], [1, \"#276419\"]], \"sequential\": [[0.0, \"#0d0887\"], [0.1111111111111111, \"#46039f\"], [0.2222222222222222, \"#7201a8\"], [0.3333333333333333, \"#9c179e\"], [0.4444444444444444, \"#bd3786\"], [0.5555555555555556, \"#d8576b\"], [0.6666666666666666, \"#ed7953\"], [0.7777777777777778, \"#fb9f3a\"], [0.8888888888888888, \"#fdca26\"], [1.0, \"#f0f921\"]], \"sequentialminus\": [[0.0, \"#0d0887\"], [0.1111111111111111, \"#46039f\"], [0.2222222222222222, \"#7201a8\"], [0.3333333333333333, \"#9c179e\"], [0.4444444444444444, \"#bd3786\"], [0.5555555555555556, \"#d8576b\"], [0.6666666666666666, \"#ed7953\"], [0.7777777777777778, \"#fb9f3a\"], [0.8888888888888888, \"#fdca26\"], [1.0, \"#f0f921\"]]}, \"colorway\": [\"#636efa\", \"#EF553B\", \"#00cc96\", \"#ab63fa\", \"#FFA15A\", \"#19d3f3\", \"#FF6692\", \"#B6E880\", \"#FF97FF\", \"#FECB52\"], \"font\": {\"color\": \"#2a3f5f\"}, \"geo\": {\"bgcolor\": \"white\", \"lakecolor\": \"white\", \"landcolor\": \"#E5ECF6\", \"showlakes\": true, \"showland\": true, \"subunitcolor\": \"white\"}, \"hoverlabel\": {\"align\": \"left\"}, \"hovermode\": \"closest\", \"mapbox\": {\"style\": \"light\"}, \"paper_bgcolor\": \"white\", \"plot_bgcolor\": \"#E5ECF6\", \"polar\": {\"angularaxis\": {\"gridcolor\": \"white\", \"linecolor\": \"white\", \"ticks\": \"\"}, \"bgcolor\": \"#E5ECF6\", \"radialaxis\": {\"gridcolor\": \"white\", \"linecolor\": \"white\", \"ticks\": \"\"}}, \"scene\": {\"xaxis\": {\"backgroundcolor\": \"#E5ECF6\", \"gridcolor\": \"white\", \"gridwidth\": 2, \"linecolor\": \"white\", \"showbackground\": true, \"ticks\": \"\", \"zerolinecolor\": \"white\"}, \"yaxis\": {\"backgroundcolor\": \"#E5ECF6\", \"gridcolor\": \"white\", \"gridwidth\": 2, \"linecolor\": \"white\", \"showbackground\": true, \"ticks\": \"\", \"zerolinecolor\": \"white\"}, \"zaxis\": {\"backgroundcolor\": \"#E5ECF6\", \"gridcolor\": \"white\", \"gridwidth\": 2, \"linecolor\": \"white\", \"showbackground\": true, \"ticks\": \"\", \"zerolinecolor\": \"white\"}}, \"shapedefaults\": {\"line\": {\"color\": \"#2a3f5f\"}}, \"ternary\": {\"aaxis\": {\"gridcolor\": \"white\", \"linecolor\": \"white\", \"ticks\": \"\"}, \"baxis\": {\"gridcolor\": \"white\", \"linecolor\": \"white\", \"ticks\": \"\"}, \"bgcolor\": \"#E5ECF6\", \"caxis\": {\"gridcolor\": \"white\", \"linecolor\": \"white\", \"ticks\": \"\"}}, \"title\": {\"x\": 0.05}, \"xaxis\": {\"automargin\": true, \"gridcolor\": \"white\", \"linecolor\": \"white\", \"ticks\": \"\", \"title\": {\"standoff\": 15}, \"zerolinecolor\": \"white\", \"zerolinewidth\": 2}, \"yaxis\": {\"automargin\": true, \"gridcolor\": \"white\", \"linecolor\": \"white\", \"ticks\": \"\", \"title\": {\"standoff\": 15}, \"zerolinecolor\": \"white\", \"zerolinewidth\": 2}}}},\n",
       "                        {\"responsive\": true}\n",
       "                    ).then(function(){\n",
       "                            \n",
       "var gd = document.getElementById('724d9df5-02a5-4cae-8367-e2a93ccb409e');\n",
       "var x = new MutationObserver(function (mutations, observer) {{\n",
       "        var display = window.getComputedStyle(gd).display;\n",
       "        if (!display || display === 'none') {{\n",
       "            console.log([gd, 'removed!']);\n",
       "            Plotly.purge(gd);\n",
       "            observer.disconnect();\n",
       "        }}\n",
       "}});\n",
       "\n",
       "// Listen for the removal of the full notebook cells\n",
       "var notebookContainer = gd.closest('#notebook-container');\n",
       "if (notebookContainer) {{\n",
       "    x.observe(notebookContainer, {childList: true});\n",
       "}}\n",
       "\n",
       "// Listen for the clearing of the current output cell\n",
       "var outputEl = gd.closest('.output');\n",
       "if (outputEl) {{\n",
       "    x.observe(outputEl, {childList: true});\n",
       "}}\n",
       "\n",
       "                        })\n",
       "                };\n",
       "                });\n",
       "            </script>\n",
       "        </div>"
      ]
     },
     "metadata": {},
     "output_type": "display_data"
    }
   ],
   "source": [
    "#!pip install plotly\n",
    "import plotly.graph_objects as go\n",
    "\n",
    "import pandas as pd\n",
    "from datetime import datetime\n",
    "\n",
    "#df = pd.read_csv('https://raw.githubusercontent.com/plotly/datasets/master/finance-charts-apple.csv')\n",
    "\n",
    "fig = go.Figure(data=[go.Candlestick(x=df_LRCX['Date'],\n",
    "                open=df_LRCX['Open'],\n",
    "                high=df_LRCX['High'],\n",
    "                low=df_LRCX['Low'],\n",
    "                close=df_LRCX['Close'])])\n",
    "\n",
    "fig.show()"
   ]
  },
  {
   "cell_type": "code",
   "execution_count": 264,
   "metadata": {},
   "outputs": [
    {
     "data": {
      "application/vnd.plotly.v1+json": {
       "config": {
        "plotlyServerURL": "https://plot.ly"
       },
       "data": [
        {
         "close": [
          42.150001525878906,
          42.220001220703125,
          41.810001373291016,
          41.47999954223633,
          41.900001525878906,
          41.029998779296875,
          41.439998626708984,
          41.29999923706055,
          41.33000183105469,
          41.209999084472656,
          41.25,
          41.099998474121094,
          41,
          40.38999938964844,
          41,
          41.09000015258789,
          41.380001068115234,
          41.439998626708984,
          41.540000915527344,
          41.290000915527344
         ],
         "high": [
          42.52000045776367,
          42.650001525878906,
          42.70000076293945,
          42.279998779296875,
          42.04999923706055,
          42.189998626708984,
          41.619998931884766,
          41.63999938964844,
          41.68000030517578,
          41.540000915527344,
          41.75,
          41.75,
          41.34000015258789,
          41.400001525878906,
          41.65999984741211,
          41.47999954223633,
          41.7599983215332,
          41.79999923706055,
          41.560001373291016,
          41.599998474121094
         ],
         "low": [
          41.16999816894531,
          41.939998626708984,
          41.630001068115234,
          41.11000061035156,
          41.470001220703125,
          40.95000076293945,
          40.880001068115234,
          41.209999084472656,
          41.099998474121094,
          40.7599983215332,
          40.689998626708984,
          40.86000061035156,
          40.810001373291016,
          40.36000061035156,
          40.06999969482422,
          40.31999969482422,
          40.81999969482422,
          40.9900016784668,
          40.97999954223633,
          41.08000183105469
         ],
         "open": [
          41.18000030517578,
          42.349998474121094,
          42.70000076293945,
          42.06999969482422,
          41.75,
          41.900001525878906,
          41.06999969482422,
          41.540000915527344,
          41.540000915527344,
          41.5,
          41.0099983215332,
          41.54999923706055,
          41.34000015258789,
          41,
          41.38999938964844,
          40.66999816894531,
          40.81999969482422,
          41.369998931884766,
          41.279998779296875,
          41.599998474121094
         ],
         "type": "candlestick",
         "x": [
          "2004-01-02T00:00:00",
          "2004-01-05T00:00:00",
          "2004-01-06T00:00:00",
          "2004-01-07T00:00:00",
          "2004-01-08T00:00:00",
          "2004-01-09T00:00:00",
          "2004-01-12T00:00:00",
          "2004-01-13T00:00:00",
          "2004-01-14T00:00:00",
          "2004-01-15T00:00:00",
          "2004-01-16T00:00:00",
          "2004-01-20T00:00:00",
          "2004-01-21T00:00:00",
          "2004-01-22T00:00:00",
          "2004-01-23T00:00:00",
          "2004-01-26T00:00:00",
          "2004-01-27T00:00:00",
          "2004-01-28T00:00:00",
          "2004-01-29T00:00:00",
          "2004-01-30T00:00:00"
         ]
        }
       ],
       "layout": {
        "template": {
         "data": {
          "bar": [
           {
            "error_x": {
             "color": "#2a3f5f"
            },
            "error_y": {
             "color": "#2a3f5f"
            },
            "marker": {
             "line": {
              "color": "#E5ECF6",
              "width": 0.5
             }
            },
            "type": "bar"
           }
          ],
          "barpolar": [
           {
            "marker": {
             "line": {
              "color": "#E5ECF6",
              "width": 0.5
             }
            },
            "type": "barpolar"
           }
          ],
          "carpet": [
           {
            "aaxis": {
             "endlinecolor": "#2a3f5f",
             "gridcolor": "white",
             "linecolor": "white",
             "minorgridcolor": "white",
             "startlinecolor": "#2a3f5f"
            },
            "baxis": {
             "endlinecolor": "#2a3f5f",
             "gridcolor": "white",
             "linecolor": "white",
             "minorgridcolor": "white",
             "startlinecolor": "#2a3f5f"
            },
            "type": "carpet"
           }
          ],
          "choropleth": [
           {
            "colorbar": {
             "outlinewidth": 0,
             "ticks": ""
            },
            "type": "choropleth"
           }
          ],
          "contour": [
           {
            "colorbar": {
             "outlinewidth": 0,
             "ticks": ""
            },
            "colorscale": [
             [
              0,
              "#0d0887"
             ],
             [
              0.1111111111111111,
              "#46039f"
             ],
             [
              0.2222222222222222,
              "#7201a8"
             ],
             [
              0.3333333333333333,
              "#9c179e"
             ],
             [
              0.4444444444444444,
              "#bd3786"
             ],
             [
              0.5555555555555556,
              "#d8576b"
             ],
             [
              0.6666666666666666,
              "#ed7953"
             ],
             [
              0.7777777777777778,
              "#fb9f3a"
             ],
             [
              0.8888888888888888,
              "#fdca26"
             ],
             [
              1,
              "#f0f921"
             ]
            ],
            "type": "contour"
           }
          ],
          "contourcarpet": [
           {
            "colorbar": {
             "outlinewidth": 0,
             "ticks": ""
            },
            "type": "contourcarpet"
           }
          ],
          "heatmap": [
           {
            "colorbar": {
             "outlinewidth": 0,
             "ticks": ""
            },
            "colorscale": [
             [
              0,
              "#0d0887"
             ],
             [
              0.1111111111111111,
              "#46039f"
             ],
             [
              0.2222222222222222,
              "#7201a8"
             ],
             [
              0.3333333333333333,
              "#9c179e"
             ],
             [
              0.4444444444444444,
              "#bd3786"
             ],
             [
              0.5555555555555556,
              "#d8576b"
             ],
             [
              0.6666666666666666,
              "#ed7953"
             ],
             [
              0.7777777777777778,
              "#fb9f3a"
             ],
             [
              0.8888888888888888,
              "#fdca26"
             ],
             [
              1,
              "#f0f921"
             ]
            ],
            "type": "heatmap"
           }
          ],
          "heatmapgl": [
           {
            "colorbar": {
             "outlinewidth": 0,
             "ticks": ""
            },
            "colorscale": [
             [
              0,
              "#0d0887"
             ],
             [
              0.1111111111111111,
              "#46039f"
             ],
             [
              0.2222222222222222,
              "#7201a8"
             ],
             [
              0.3333333333333333,
              "#9c179e"
             ],
             [
              0.4444444444444444,
              "#bd3786"
             ],
             [
              0.5555555555555556,
              "#d8576b"
             ],
             [
              0.6666666666666666,
              "#ed7953"
             ],
             [
              0.7777777777777778,
              "#fb9f3a"
             ],
             [
              0.8888888888888888,
              "#fdca26"
             ],
             [
              1,
              "#f0f921"
             ]
            ],
            "type": "heatmapgl"
           }
          ],
          "histogram": [
           {
            "marker": {
             "colorbar": {
              "outlinewidth": 0,
              "ticks": ""
             }
            },
            "type": "histogram"
           }
          ],
          "histogram2d": [
           {
            "colorbar": {
             "outlinewidth": 0,
             "ticks": ""
            },
            "colorscale": [
             [
              0,
              "#0d0887"
             ],
             [
              0.1111111111111111,
              "#46039f"
             ],
             [
              0.2222222222222222,
              "#7201a8"
             ],
             [
              0.3333333333333333,
              "#9c179e"
             ],
             [
              0.4444444444444444,
              "#bd3786"
             ],
             [
              0.5555555555555556,
              "#d8576b"
             ],
             [
              0.6666666666666666,
              "#ed7953"
             ],
             [
              0.7777777777777778,
              "#fb9f3a"
             ],
             [
              0.8888888888888888,
              "#fdca26"
             ],
             [
              1,
              "#f0f921"
             ]
            ],
            "type": "histogram2d"
           }
          ],
          "histogram2dcontour": [
           {
            "colorbar": {
             "outlinewidth": 0,
             "ticks": ""
            },
            "colorscale": [
             [
              0,
              "#0d0887"
             ],
             [
              0.1111111111111111,
              "#46039f"
             ],
             [
              0.2222222222222222,
              "#7201a8"
             ],
             [
              0.3333333333333333,
              "#9c179e"
             ],
             [
              0.4444444444444444,
              "#bd3786"
             ],
             [
              0.5555555555555556,
              "#d8576b"
             ],
             [
              0.6666666666666666,
              "#ed7953"
             ],
             [
              0.7777777777777778,
              "#fb9f3a"
             ],
             [
              0.8888888888888888,
              "#fdca26"
             ],
             [
              1,
              "#f0f921"
             ]
            ],
            "type": "histogram2dcontour"
           }
          ],
          "mesh3d": [
           {
            "colorbar": {
             "outlinewidth": 0,
             "ticks": ""
            },
            "type": "mesh3d"
           }
          ],
          "parcoords": [
           {
            "line": {
             "colorbar": {
              "outlinewidth": 0,
              "ticks": ""
             }
            },
            "type": "parcoords"
           }
          ],
          "pie": [
           {
            "automargin": true,
            "type": "pie"
           }
          ],
          "scatter": [
           {
            "marker": {
             "colorbar": {
              "outlinewidth": 0,
              "ticks": ""
             }
            },
            "type": "scatter"
           }
          ],
          "scatter3d": [
           {
            "line": {
             "colorbar": {
              "outlinewidth": 0,
              "ticks": ""
             }
            },
            "marker": {
             "colorbar": {
              "outlinewidth": 0,
              "ticks": ""
             }
            },
            "type": "scatter3d"
           }
          ],
          "scattercarpet": [
           {
            "marker": {
             "colorbar": {
              "outlinewidth": 0,
              "ticks": ""
             }
            },
            "type": "scattercarpet"
           }
          ],
          "scattergeo": [
           {
            "marker": {
             "colorbar": {
              "outlinewidth": 0,
              "ticks": ""
             }
            },
            "type": "scattergeo"
           }
          ],
          "scattergl": [
           {
            "marker": {
             "colorbar": {
              "outlinewidth": 0,
              "ticks": ""
             }
            },
            "type": "scattergl"
           }
          ],
          "scattermapbox": [
           {
            "marker": {
             "colorbar": {
              "outlinewidth": 0,
              "ticks": ""
             }
            },
            "type": "scattermapbox"
           }
          ],
          "scatterpolar": [
           {
            "marker": {
             "colorbar": {
              "outlinewidth": 0,
              "ticks": ""
             }
            },
            "type": "scatterpolar"
           }
          ],
          "scatterpolargl": [
           {
            "marker": {
             "colorbar": {
              "outlinewidth": 0,
              "ticks": ""
             }
            },
            "type": "scatterpolargl"
           }
          ],
          "scatterternary": [
           {
            "marker": {
             "colorbar": {
              "outlinewidth": 0,
              "ticks": ""
             }
            },
            "type": "scatterternary"
           }
          ],
          "surface": [
           {
            "colorbar": {
             "outlinewidth": 0,
             "ticks": ""
            },
            "colorscale": [
             [
              0,
              "#0d0887"
             ],
             [
              0.1111111111111111,
              "#46039f"
             ],
             [
              0.2222222222222222,
              "#7201a8"
             ],
             [
              0.3333333333333333,
              "#9c179e"
             ],
             [
              0.4444444444444444,
              "#bd3786"
             ],
             [
              0.5555555555555556,
              "#d8576b"
             ],
             [
              0.6666666666666666,
              "#ed7953"
             ],
             [
              0.7777777777777778,
              "#fb9f3a"
             ],
             [
              0.8888888888888888,
              "#fdca26"
             ],
             [
              1,
              "#f0f921"
             ]
            ],
            "type": "surface"
           }
          ],
          "table": [
           {
            "cells": {
             "fill": {
              "color": "#EBF0F8"
             },
             "line": {
              "color": "white"
             }
            },
            "header": {
             "fill": {
              "color": "#C8D4E3"
             },
             "line": {
              "color": "white"
             }
            },
            "type": "table"
           }
          ]
         },
         "layout": {
          "annotationdefaults": {
           "arrowcolor": "#2a3f5f",
           "arrowhead": 0,
           "arrowwidth": 1
          },
          "coloraxis": {
           "colorbar": {
            "outlinewidth": 0,
            "ticks": ""
           }
          },
          "colorscale": {
           "diverging": [
            [
             0,
             "#8e0152"
            ],
            [
             0.1,
             "#c51b7d"
            ],
            [
             0.2,
             "#de77ae"
            ],
            [
             0.3,
             "#f1b6da"
            ],
            [
             0.4,
             "#fde0ef"
            ],
            [
             0.5,
             "#f7f7f7"
            ],
            [
             0.6,
             "#e6f5d0"
            ],
            [
             0.7,
             "#b8e186"
            ],
            [
             0.8,
             "#7fbc41"
            ],
            [
             0.9,
             "#4d9221"
            ],
            [
             1,
             "#276419"
            ]
           ],
           "sequential": [
            [
             0,
             "#0d0887"
            ],
            [
             0.1111111111111111,
             "#46039f"
            ],
            [
             0.2222222222222222,
             "#7201a8"
            ],
            [
             0.3333333333333333,
             "#9c179e"
            ],
            [
             0.4444444444444444,
             "#bd3786"
            ],
            [
             0.5555555555555556,
             "#d8576b"
            ],
            [
             0.6666666666666666,
             "#ed7953"
            ],
            [
             0.7777777777777778,
             "#fb9f3a"
            ],
            [
             0.8888888888888888,
             "#fdca26"
            ],
            [
             1,
             "#f0f921"
            ]
           ],
           "sequentialminus": [
            [
             0,
             "#0d0887"
            ],
            [
             0.1111111111111111,
             "#46039f"
            ],
            [
             0.2222222222222222,
             "#7201a8"
            ],
            [
             0.3333333333333333,
             "#9c179e"
            ],
            [
             0.4444444444444444,
             "#bd3786"
            ],
            [
             0.5555555555555556,
             "#d8576b"
            ],
            [
             0.6666666666666666,
             "#ed7953"
            ],
            [
             0.7777777777777778,
             "#fb9f3a"
            ],
            [
             0.8888888888888888,
             "#fdca26"
            ],
            [
             1,
             "#f0f921"
            ]
           ]
          },
          "colorway": [
           "#636efa",
           "#EF553B",
           "#00cc96",
           "#ab63fa",
           "#FFA15A",
           "#19d3f3",
           "#FF6692",
           "#B6E880",
           "#FF97FF",
           "#FECB52"
          ],
          "font": {
           "color": "#2a3f5f"
          },
          "geo": {
           "bgcolor": "white",
           "lakecolor": "white",
           "landcolor": "#E5ECF6",
           "showlakes": true,
           "showland": true,
           "subunitcolor": "white"
          },
          "hoverlabel": {
           "align": "left"
          },
          "hovermode": "closest",
          "mapbox": {
           "style": "light"
          },
          "paper_bgcolor": "white",
          "plot_bgcolor": "#E5ECF6",
          "polar": {
           "angularaxis": {
            "gridcolor": "white",
            "linecolor": "white",
            "ticks": ""
           },
           "bgcolor": "#E5ECF6",
           "radialaxis": {
            "gridcolor": "white",
            "linecolor": "white",
            "ticks": ""
           }
          },
          "scene": {
           "xaxis": {
            "backgroundcolor": "#E5ECF6",
            "gridcolor": "white",
            "gridwidth": 2,
            "linecolor": "white",
            "showbackground": true,
            "ticks": "",
            "zerolinecolor": "white"
           },
           "yaxis": {
            "backgroundcolor": "#E5ECF6",
            "gridcolor": "white",
            "gridwidth": 2,
            "linecolor": "white",
            "showbackground": true,
            "ticks": "",
            "zerolinecolor": "white"
           },
           "zaxis": {
            "backgroundcolor": "#E5ECF6",
            "gridcolor": "white",
            "gridwidth": 2,
            "linecolor": "white",
            "showbackground": true,
            "ticks": "",
            "zerolinecolor": "white"
           }
          },
          "shapedefaults": {
           "line": {
            "color": "#2a3f5f"
           }
          },
          "ternary": {
           "aaxis": {
            "gridcolor": "white",
            "linecolor": "white",
            "ticks": ""
           },
           "baxis": {
            "gridcolor": "white",
            "linecolor": "white",
            "ticks": ""
           },
           "bgcolor": "#E5ECF6",
           "caxis": {
            "gridcolor": "white",
            "linecolor": "white",
            "ticks": ""
           }
          },
          "title": {
           "x": 0.05
          },
          "xaxis": {
           "automargin": true,
           "gridcolor": "white",
           "linecolor": "white",
           "ticks": "",
           "title": {
            "standoff": 15
           },
           "zerolinecolor": "white",
           "zerolinewidth": 2
          },
          "yaxis": {
           "automargin": true,
           "gridcolor": "white",
           "linecolor": "white",
           "ticks": "",
           "title": {
            "standoff": 15
           },
           "zerolinecolor": "white",
           "zerolinewidth": 2
          }
         }
        }
       }
      },
      "text/html": [
       "<div>\n",
       "        \n",
       "        \n",
       "            <div id=\"5035fe1b-3486-4f2e-8106-9d81480fb4ba\" class=\"plotly-graph-div\" style=\"height:525px; width:100%;\"></div>\n",
       "            <script type=\"text/javascript\">\n",
       "                require([\"plotly\"], function(Plotly) {\n",
       "                    window.PLOTLYENV=window.PLOTLYENV || {};\n",
       "                    \n",
       "                if (document.getElementById(\"5035fe1b-3486-4f2e-8106-9d81480fb4ba\")) {\n",
       "                    Plotly.newPlot(\n",
       "                        '5035fe1b-3486-4f2e-8106-9d81480fb4ba',\n",
       "                        [{\"close\": [42.150001525878906, 42.220001220703125, 41.810001373291016, 41.47999954223633, 41.900001525878906, 41.029998779296875, 41.439998626708984, 41.29999923706055, 41.33000183105469, 41.209999084472656, 41.25, 41.099998474121094, 41.0, 40.38999938964844, 41.0, 41.09000015258789, 41.380001068115234, 41.439998626708984, 41.540000915527344, 41.290000915527344], \"high\": [42.52000045776367, 42.650001525878906, 42.70000076293945, 42.279998779296875, 42.04999923706055, 42.189998626708984, 41.619998931884766, 41.63999938964844, 41.68000030517578, 41.540000915527344, 41.75, 41.75, 41.34000015258789, 41.400001525878906, 41.65999984741211, 41.47999954223633, 41.7599983215332, 41.79999923706055, 41.560001373291016, 41.599998474121094], \"low\": [41.16999816894531, 41.939998626708984, 41.630001068115234, 41.11000061035156, 41.470001220703125, 40.95000076293945, 40.880001068115234, 41.209999084472656, 41.099998474121094, 40.7599983215332, 40.689998626708984, 40.86000061035156, 40.810001373291016, 40.36000061035156, 40.06999969482422, 40.31999969482422, 40.81999969482422, 40.9900016784668, 40.97999954223633, 41.08000183105469], \"open\": [41.18000030517578, 42.349998474121094, 42.70000076293945, 42.06999969482422, 41.75, 41.900001525878906, 41.06999969482422, 41.540000915527344, 41.540000915527344, 41.5, 41.0099983215332, 41.54999923706055, 41.34000015258789, 41.0, 41.38999938964844, 40.66999816894531, 40.81999969482422, 41.369998931884766, 41.279998779296875, 41.599998474121094], \"type\": \"candlestick\", \"x\": [\"2004-01-02T00:00:00\", \"2004-01-05T00:00:00\", \"2004-01-06T00:00:00\", \"2004-01-07T00:00:00\", \"2004-01-08T00:00:00\", \"2004-01-09T00:00:00\", \"2004-01-12T00:00:00\", \"2004-01-13T00:00:00\", \"2004-01-14T00:00:00\", \"2004-01-15T00:00:00\", \"2004-01-16T00:00:00\", \"2004-01-20T00:00:00\", \"2004-01-21T00:00:00\", \"2004-01-22T00:00:00\", \"2004-01-23T00:00:00\", \"2004-01-26T00:00:00\", \"2004-01-27T00:00:00\", \"2004-01-28T00:00:00\", \"2004-01-29T00:00:00\", \"2004-01-30T00:00:00\"]}],\n",
       "                        {\"template\": {\"data\": {\"bar\": [{\"error_x\": {\"color\": \"#2a3f5f\"}, \"error_y\": {\"color\": \"#2a3f5f\"}, \"marker\": {\"line\": {\"color\": \"#E5ECF6\", \"width\": 0.5}}, \"type\": \"bar\"}], \"barpolar\": [{\"marker\": {\"line\": {\"color\": \"#E5ECF6\", \"width\": 0.5}}, \"type\": \"barpolar\"}], \"carpet\": [{\"aaxis\": {\"endlinecolor\": \"#2a3f5f\", \"gridcolor\": \"white\", \"linecolor\": \"white\", \"minorgridcolor\": \"white\", \"startlinecolor\": \"#2a3f5f\"}, \"baxis\": {\"endlinecolor\": \"#2a3f5f\", \"gridcolor\": \"white\", \"linecolor\": \"white\", \"minorgridcolor\": \"white\", \"startlinecolor\": \"#2a3f5f\"}, \"type\": \"carpet\"}], \"choropleth\": [{\"colorbar\": {\"outlinewidth\": 0, \"ticks\": \"\"}, \"type\": \"choropleth\"}], \"contour\": [{\"colorbar\": {\"outlinewidth\": 0, \"ticks\": \"\"}, \"colorscale\": [[0.0, \"#0d0887\"], [0.1111111111111111, \"#46039f\"], [0.2222222222222222, \"#7201a8\"], [0.3333333333333333, \"#9c179e\"], [0.4444444444444444, \"#bd3786\"], [0.5555555555555556, \"#d8576b\"], [0.6666666666666666, \"#ed7953\"], [0.7777777777777778, \"#fb9f3a\"], [0.8888888888888888, \"#fdca26\"], [1.0, \"#f0f921\"]], \"type\": \"contour\"}], \"contourcarpet\": [{\"colorbar\": {\"outlinewidth\": 0, \"ticks\": \"\"}, \"type\": \"contourcarpet\"}], \"heatmap\": [{\"colorbar\": {\"outlinewidth\": 0, \"ticks\": \"\"}, \"colorscale\": [[0.0, \"#0d0887\"], [0.1111111111111111, \"#46039f\"], [0.2222222222222222, \"#7201a8\"], [0.3333333333333333, \"#9c179e\"], [0.4444444444444444, \"#bd3786\"], [0.5555555555555556, \"#d8576b\"], [0.6666666666666666, \"#ed7953\"], [0.7777777777777778, \"#fb9f3a\"], [0.8888888888888888, \"#fdca26\"], [1.0, \"#f0f921\"]], \"type\": \"heatmap\"}], \"heatmapgl\": [{\"colorbar\": {\"outlinewidth\": 0, \"ticks\": \"\"}, \"colorscale\": [[0.0, \"#0d0887\"], [0.1111111111111111, \"#46039f\"], [0.2222222222222222, \"#7201a8\"], [0.3333333333333333, \"#9c179e\"], [0.4444444444444444, \"#bd3786\"], [0.5555555555555556, \"#d8576b\"], [0.6666666666666666, \"#ed7953\"], [0.7777777777777778, \"#fb9f3a\"], [0.8888888888888888, \"#fdca26\"], [1.0, \"#f0f921\"]], \"type\": \"heatmapgl\"}], \"histogram\": [{\"marker\": {\"colorbar\": {\"outlinewidth\": 0, \"ticks\": \"\"}}, \"type\": \"histogram\"}], \"histogram2d\": [{\"colorbar\": {\"outlinewidth\": 0, \"ticks\": \"\"}, \"colorscale\": [[0.0, \"#0d0887\"], [0.1111111111111111, \"#46039f\"], [0.2222222222222222, \"#7201a8\"], [0.3333333333333333, \"#9c179e\"], [0.4444444444444444, \"#bd3786\"], [0.5555555555555556, \"#d8576b\"], [0.6666666666666666, \"#ed7953\"], [0.7777777777777778, \"#fb9f3a\"], [0.8888888888888888, \"#fdca26\"], [1.0, \"#f0f921\"]], \"type\": \"histogram2d\"}], \"histogram2dcontour\": [{\"colorbar\": {\"outlinewidth\": 0, \"ticks\": \"\"}, \"colorscale\": [[0.0, \"#0d0887\"], [0.1111111111111111, \"#46039f\"], [0.2222222222222222, \"#7201a8\"], [0.3333333333333333, \"#9c179e\"], [0.4444444444444444, \"#bd3786\"], [0.5555555555555556, \"#d8576b\"], [0.6666666666666666, \"#ed7953\"], [0.7777777777777778, \"#fb9f3a\"], [0.8888888888888888, \"#fdca26\"], [1.0, \"#f0f921\"]], \"type\": \"histogram2dcontour\"}], \"mesh3d\": [{\"colorbar\": {\"outlinewidth\": 0, \"ticks\": \"\"}, \"type\": \"mesh3d\"}], \"parcoords\": [{\"line\": {\"colorbar\": {\"outlinewidth\": 0, \"ticks\": \"\"}}, \"type\": \"parcoords\"}], \"pie\": [{\"automargin\": true, \"type\": \"pie\"}], \"scatter\": [{\"marker\": {\"colorbar\": {\"outlinewidth\": 0, \"ticks\": \"\"}}, \"type\": \"scatter\"}], \"scatter3d\": [{\"line\": {\"colorbar\": {\"outlinewidth\": 0, \"ticks\": \"\"}}, \"marker\": {\"colorbar\": {\"outlinewidth\": 0, \"ticks\": \"\"}}, \"type\": \"scatter3d\"}], \"scattercarpet\": [{\"marker\": {\"colorbar\": {\"outlinewidth\": 0, \"ticks\": \"\"}}, \"type\": \"scattercarpet\"}], \"scattergeo\": [{\"marker\": {\"colorbar\": {\"outlinewidth\": 0, \"ticks\": \"\"}}, \"type\": \"scattergeo\"}], \"scattergl\": [{\"marker\": {\"colorbar\": {\"outlinewidth\": 0, \"ticks\": \"\"}}, \"type\": \"scattergl\"}], \"scattermapbox\": [{\"marker\": {\"colorbar\": {\"outlinewidth\": 0, \"ticks\": \"\"}}, \"type\": \"scattermapbox\"}], \"scatterpolar\": [{\"marker\": {\"colorbar\": {\"outlinewidth\": 0, \"ticks\": \"\"}}, \"type\": \"scatterpolar\"}], \"scatterpolargl\": [{\"marker\": {\"colorbar\": {\"outlinewidth\": 0, \"ticks\": \"\"}}, \"type\": \"scatterpolargl\"}], \"scatterternary\": [{\"marker\": {\"colorbar\": {\"outlinewidth\": 0, \"ticks\": \"\"}}, \"type\": \"scatterternary\"}], \"surface\": [{\"colorbar\": {\"outlinewidth\": 0, \"ticks\": \"\"}, \"colorscale\": [[0.0, \"#0d0887\"], [0.1111111111111111, \"#46039f\"], [0.2222222222222222, \"#7201a8\"], [0.3333333333333333, \"#9c179e\"], [0.4444444444444444, \"#bd3786\"], [0.5555555555555556, \"#d8576b\"], [0.6666666666666666, \"#ed7953\"], [0.7777777777777778, \"#fb9f3a\"], [0.8888888888888888, \"#fdca26\"], [1.0, \"#f0f921\"]], \"type\": \"surface\"}], \"table\": [{\"cells\": {\"fill\": {\"color\": \"#EBF0F8\"}, \"line\": {\"color\": \"white\"}}, \"header\": {\"fill\": {\"color\": \"#C8D4E3\"}, \"line\": {\"color\": \"white\"}}, \"type\": \"table\"}]}, \"layout\": {\"annotationdefaults\": {\"arrowcolor\": \"#2a3f5f\", \"arrowhead\": 0, \"arrowwidth\": 1}, \"coloraxis\": {\"colorbar\": {\"outlinewidth\": 0, \"ticks\": \"\"}}, \"colorscale\": {\"diverging\": [[0, \"#8e0152\"], [0.1, \"#c51b7d\"], [0.2, \"#de77ae\"], [0.3, \"#f1b6da\"], [0.4, \"#fde0ef\"], [0.5, \"#f7f7f7\"], [0.6, \"#e6f5d0\"], [0.7, \"#b8e186\"], [0.8, \"#7fbc41\"], [0.9, \"#4d9221\"], [1, \"#276419\"]], \"sequential\": [[0.0, \"#0d0887\"], [0.1111111111111111, \"#46039f\"], [0.2222222222222222, \"#7201a8\"], [0.3333333333333333, \"#9c179e\"], [0.4444444444444444, \"#bd3786\"], [0.5555555555555556, \"#d8576b\"], [0.6666666666666666, \"#ed7953\"], [0.7777777777777778, \"#fb9f3a\"], [0.8888888888888888, \"#fdca26\"], [1.0, \"#f0f921\"]], \"sequentialminus\": [[0.0, \"#0d0887\"], [0.1111111111111111, \"#46039f\"], [0.2222222222222222, \"#7201a8\"], [0.3333333333333333, \"#9c179e\"], [0.4444444444444444, \"#bd3786\"], [0.5555555555555556, \"#d8576b\"], [0.6666666666666666, \"#ed7953\"], [0.7777777777777778, \"#fb9f3a\"], [0.8888888888888888, \"#fdca26\"], [1.0, \"#f0f921\"]]}, \"colorway\": [\"#636efa\", \"#EF553B\", \"#00cc96\", \"#ab63fa\", \"#FFA15A\", \"#19d3f3\", \"#FF6692\", \"#B6E880\", \"#FF97FF\", \"#FECB52\"], \"font\": {\"color\": \"#2a3f5f\"}, \"geo\": {\"bgcolor\": \"white\", \"lakecolor\": \"white\", \"landcolor\": \"#E5ECF6\", \"showlakes\": true, \"showland\": true, \"subunitcolor\": \"white\"}, \"hoverlabel\": {\"align\": \"left\"}, \"hovermode\": \"closest\", \"mapbox\": {\"style\": \"light\"}, \"paper_bgcolor\": \"white\", \"plot_bgcolor\": \"#E5ECF6\", \"polar\": {\"angularaxis\": {\"gridcolor\": \"white\", \"linecolor\": \"white\", \"ticks\": \"\"}, \"bgcolor\": \"#E5ECF6\", \"radialaxis\": {\"gridcolor\": \"white\", \"linecolor\": \"white\", \"ticks\": \"\"}}, \"scene\": {\"xaxis\": {\"backgroundcolor\": \"#E5ECF6\", \"gridcolor\": \"white\", \"gridwidth\": 2, \"linecolor\": \"white\", \"showbackground\": true, \"ticks\": \"\", \"zerolinecolor\": \"white\"}, \"yaxis\": {\"backgroundcolor\": \"#E5ECF6\", \"gridcolor\": \"white\", \"gridwidth\": 2, \"linecolor\": \"white\", \"showbackground\": true, \"ticks\": \"\", \"zerolinecolor\": \"white\"}, \"zaxis\": {\"backgroundcolor\": \"#E5ECF6\", \"gridcolor\": \"white\", \"gridwidth\": 2, \"linecolor\": \"white\", \"showbackground\": true, \"ticks\": \"\", \"zerolinecolor\": \"white\"}}, \"shapedefaults\": {\"line\": {\"color\": \"#2a3f5f\"}}, \"ternary\": {\"aaxis\": {\"gridcolor\": \"white\", \"linecolor\": \"white\", \"ticks\": \"\"}, \"baxis\": {\"gridcolor\": \"white\", \"linecolor\": \"white\", \"ticks\": \"\"}, \"bgcolor\": \"#E5ECF6\", \"caxis\": {\"gridcolor\": \"white\", \"linecolor\": \"white\", \"ticks\": \"\"}}, \"title\": {\"x\": 0.05}, \"xaxis\": {\"automargin\": true, \"gridcolor\": \"white\", \"linecolor\": \"white\", \"ticks\": \"\", \"title\": {\"standoff\": 15}, \"zerolinecolor\": \"white\", \"zerolinewidth\": 2}, \"yaxis\": {\"automargin\": true, \"gridcolor\": \"white\", \"linecolor\": \"white\", \"ticks\": \"\", \"title\": {\"standoff\": 15}, \"zerolinecolor\": \"white\", \"zerolinewidth\": 2}}}},\n",
       "                        {\"responsive\": true}\n",
       "                    ).then(function(){\n",
       "                            \n",
       "var gd = document.getElementById('5035fe1b-3486-4f2e-8106-9d81480fb4ba');\n",
       "var x = new MutationObserver(function (mutations, observer) {{\n",
       "        var display = window.getComputedStyle(gd).display;\n",
       "        if (!display || display === 'none') {{\n",
       "            console.log([gd, 'removed!']);\n",
       "            Plotly.purge(gd);\n",
       "            observer.disconnect();\n",
       "        }}\n",
       "}});\n",
       "\n",
       "// Listen for the removal of the full notebook cells\n",
       "var notebookContainer = gd.closest('#notebook-container');\n",
       "if (notebookContainer) {{\n",
       "    x.observe(notebookContainer, {childList: true});\n",
       "}}\n",
       "\n",
       "// Listen for the clearing of the current output cell\n",
       "var outputEl = gd.closest('.output');\n",
       "if (outputEl) {{\n",
       "    x.observe(outputEl, {childList: true});\n",
       "}}\n",
       "\n",
       "                        })\n",
       "                };\n",
       "                });\n",
       "            </script>\n",
       "        </div>"
      ]
     },
     "metadata": {},
     "output_type": "display_data"
    }
   ],
   "source": [
    "#!pip install plotly\n",
    "import plotly.graph_objects as go\n",
    "\n",
    "import pandas as pd\n",
    "from datetime import datetime\n",
    "\n",
    "#df = pd.read_csv('https://raw.githubusercontent.com/plotly/datasets/master/finance-charts-apple.csv')\n",
    "\n",
    "fig = go.Figure(data=[go.Candlestick(x=df_CSGP['Date'],\n",
    "                open=df_CSGP['Open'],\n",
    "                high=df_CSGP['High'],\n",
    "                low=df_CSGP['Low'],\n",
    "                close=df_CSGP['Close'])])\n",
    "\n",
    "fig.show()"
   ]
  },
  {
   "cell_type": "markdown",
   "metadata": {},
   "source": [
    "## 5. Write your reflections on the assignment. What was easy? What was hard? How much time did you spend on the assignment?"
   ]
  },
  {
   "cell_type": "markdown",
   "metadata": {},
   "source": [
    "Working with multi-index dataframe was indeed a challange, The clues provided made the assignment easy and fun. I spent 4-5 hours to complete the assignment."
   ]
  }
 ],
 "metadata": {
  "kernelspec": {
   "display_name": "Python 3",
   "language": "python",
   "name": "python3"
  },
  "language_info": {
   "codemirror_mode": {
    "name": "ipython",
    "version": 3
   },
   "file_extension": ".py",
   "mimetype": "text/x-python",
   "name": "python",
   "nbconvert_exporter": "python",
   "pygments_lexer": "ipython3",
   "version": "3.7.6"
  }
 },
 "nbformat": 4,
 "nbformat_minor": 4
}
