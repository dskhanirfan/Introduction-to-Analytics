{
 "cells": [
  {
   "cell_type": "markdown",
   "metadata": {},
   "source": [
    "# This is a quick-start file for the assignment. Feel free to erase cells you don't need."
   ]
  },
  {
   "cell_type": "code",
   "execution_count": 1,
   "metadata": {
    "scrolled": true
   },
   "outputs": [],
   "source": [
    "# Your environment is probably missing some packages. We will check and, if necessary, install.\n",
    "# https://pypi.org/project/yfinance\n",
    "import pip\n",
    "from pip._internal.utils.misc import get_installed_distributions\n",
    "pkgs = ''.join(str(get_installed_distributions(local_only=True)))\n",
    "if \"yfinance\" not in pkgs:\n",
    "    !pip install yfinance\n",
    "if \"lxml\" not in pkgs:\n",
    "    !pip install lxml "
   ]
  },
  {
   "cell_type": "code",
   "execution_count": 2,
   "metadata": {},
   "outputs": [],
   "source": [
    "# Now we can import yfinance\n",
    "import yfinance as yf\n",
    "import pandas as pd\n",
    "from pathlib import Path"
   ]
  },
  {
   "cell_type": "code",
   "execution_count": 3,
   "metadata": {},
   "outputs": [],
   "source": [
    "# Let's define some useful constants\n",
    "START = \"2000-07-03\"\n",
    "END   = \"2020-08-10\"\n",
    "\n",
    "TICKERS = ['AAPL', 'ADBE', 'ADI', 'ADP', 'ADSK', 'AKAM', 'AMD', 'ANSS', 'APH', \\\n",
    "           'AVIFY', 'BA', 'BCE', 'CAJ', 'CDNS', 'CERN', 'CGNX', 'CHKP', 'CHL', \\\n",
    "           'CHU', 'CSCO', 'CSGP', 'CTL', 'CTSH', 'CTXS', 'DASTY', 'DTEGY', 'ERIC', \\\n",
    "           'FDS', 'FICO', 'FISV', 'GD', 'GE', 'GIB', 'GLW', 'HEI', 'HPQ', 'IBM', \\\n",
    "           'IFNNY', 'INFY', 'INTC', 'INTU', 'JKHY', 'KKPNY', 'KLAC', 'KYOCY', 'LHX', \\\n",
    "           'LMT', 'LOGI', 'LRCX', 'MCHP', 'MRVL', 'MSFT', 'MSI', 'MU', 'MXIM', \\\n",
    "           'NICE', 'NOC', 'NOK', 'NTTYY', 'NVDA', 'ORAN', 'ORCL', 'OTEX', 'PAYX', \\\n",
    "           'PTC', 'QCOM', 'RCI', 'ROP', 'SAP', 'SCMWY', 'SFTBF', 'SKM', 'SNPS', \\\n",
    "           'STM', 'SWKS', 'T', 'TDY', 'TEF', 'TER', 'TLK', 'TLSYY', 'TRMB', 'TSM', \\\n",
    "           'TTDKY', 'TU', 'TXN', 'TYL', 'VIV', 'VOD', \\\n",
    "           'VRSN', 'VZ', 'WDC', 'XLNX', 'ZBRA']\n",
    "\n",
    "DATAFILE_NAME = \"data.pickle\"\n",
    "\n",
    "# https://www.devdungeon.com/content/colorize-terminal-output-python\n",
    "BOLD  = '\\033[1m'\n",
    "ULINE = '\\033[4m'\n",
    "BLUE  = '\\033[34m'\n",
    "RED   = '\\033[31m'\n",
    "RESET = '\\033[0m'"
   ]
  },
  {
   "cell_type": "code",
   "execution_count": 4,
   "metadata": {},
   "outputs": [
    {
     "data": {
      "text/plain": [
       "(94, list)"
      ]
     },
     "execution_count": 4,
     "metadata": {},
     "output_type": "execute_result"
    }
   ],
   "source": [
    "len(TICKERS), type(TICKERS)"
   ]
  },
  {
   "cell_type": "markdown",
   "metadata": {},
   "source": [
    "## You need to consult `pandas` documentation https://pandas.pydata.org/pandas-docs/stable/user_guide/10min.html to complete this assignment"
   ]
  },
  {
   "cell_type": "code",
   "execution_count": 5,
   "metadata": {
    "scrolled": true
   },
   "outputs": [],
   "source": [
    "# It's practical to download data from Yahoo!Finance just once and keep a local copy\n",
    "if Path(DATAFILE_NAME).is_file(): # check if we got the datafile already\n",
    "    data = pd.read_pickle(DATAFILE_NAME) # read it\n",
    "else:\n",
    "    data = yf.download(tickers=TICKERS, start=START, end=END, group_by='ticker', auto_adjust=True)\n",
    "    data.to_pickle(DATAFILE_NAME) # save localy"
   ]
  },
  {
   "cell_type": "markdown",
   "metadata": {},
   "source": [
    "## 1. Find a stock among all 94 in TICKERS that had the biggest HIGH/LOW difference during one day. Whats is the name of the company? What date was it? How big was the swing in percent?"
   ]
  },
  {
   "cell_type": "code",
   "execution_count": 6,
   "metadata": {},
   "outputs": [
    {
     "name": "stdout",
     "output_type": "stream",
     "text": [
      "\u001b[1m \u001b[34m CSGP 29 July 2020 volatility: 8.91% \u001b[0m\n"
     ]
    }
   ],
   "source": [
    "# short solution\n",
    "HL_diff = pd.DataFrame()\n",
    "for ticker in TICKERS:\n",
    "    HL_diff[ticker] = data[(ticker,'High')] - data[(ticker,'Low')]\n",
    "\n",
    "comp_name_1 = HL_diff.max().idxmax()\n",
    "date = HL_diff[comp_name_1].idxmax()\n",
    "d = data.loc[date, comp_name_1]\n",
    "\n",
    "swing = (d.High - d.Low) / ((d.High + d.Low))\n",
    "print(BOLD, BLUE, comp_name_1, date.day, date.month_name(), date.year, 'volatility: {:.2f}%'.format(swing*100), RESET)"
   ]
  },
  {
   "cell_type": "markdown",
   "metadata": {},
   "source": [
    "## 2. For that company find the month when standard deviation in Close value was the lowest.  Print out the month and the year."
   ]
  },
  {
   "cell_type": "code",
   "execution_count": 7,
   "metadata": {},
   "outputs": [
    {
     "name": "stdout",
     "output_type": "stream",
     "text": [
      "\u001b[1m \u001b[34m January 2004 \u001b[0m\n"
     ]
    }
   ],
   "source": [
    "# short solution\n",
    "def st_dev (in_data):\n",
    "    mean = sum(in_data) / len(in_data)\n",
    "    variance  = sum((x-mean)**2 for x in in_data) / (len(in_data)-1)\n",
    "    return variance**(1./2.)\n",
    "\n",
    "the_month = data[(comp_name_1, 'Close')].groupby(pd.Grouper(freq='1M')).apply(st_dev).idxmin()\n",
    "print(BOLD, BLUE, the_month.month_name(), the_month.year, RESET)"
   ]
  },
  {
   "cell_type": "markdown",
   "metadata": {},
   "source": [
    "## 3. The volatility of a stock is the fluctuation of price during a day. Find the company among all in TICKERS with the highest _median_ volatility in percent during the month you identified in (2). What is the name of this company?"
   ]
  },
  {
   "cell_type": "code",
   "execution_count": 8,
   "metadata": {},
   "outputs": [
    {
     "name": "stdout",
     "output_type": "stream",
     "text": [
      "from  2004-01-01  to  2004-01-31\n",
      "\u001b[1m \u001b[34m AVIFY \u001b[0m\n"
     ]
    }
   ],
   "source": [
    "def medianF (in_data):\n",
    "    dt = list(in_data.sort_values()) \n",
    "    n = len(dt)\n",
    "    if n % 2 == 0:  \n",
    "        return (dt[n//2] + dt[n//2 - 1])/2\n",
    "    else: \n",
    "        return dt[n//2] \n",
    "\n",
    "from datetime import timedelta\n",
    "ds = pd.Timestamp(the_month.year, the_month.month, 1)\n",
    "de = pd.Timestamp(ds.year, ds.month + 1, 1) - timedelta(days=1)\n",
    "print('from ', ds.date(), ' to ', de.date())\n",
    "\n",
    "dm = data.loc[ds:de]\n",
    "stocks = pd.DataFrame()\n",
    "for stock in TICKERS:\n",
    "    high, low = dm[(stock,'High')], dm[(stock,'Low')]\n",
    "    stocks[stock] = 2 * (high - low) / (high + low)\n",
    "comp_name_2 = stocks.apply(medianF).idxmax()\n",
    "print(BOLD, BLUE, comp_name_2, RESET)"
   ]
  },
  {
   "cell_type": "markdown",
   "metadata": {},
   "source": [
    "## 4. Create a candlestick chart for the two stocks you found in (1) and (3) and for the month you identified. Make sure that x-axis displays the dates."
   ]
  },
  {
   "cell_type": "code",
   "execution_count": 9,
   "metadata": {
    "scrolled": false
   },
   "outputs": [
    {
     "data": {
      "image/png": "[encoded data removed]",
      "text/plain": [
       "<Mpf_Figure size 750x575 with 2 Axes>"
      ]
     },
     "metadata": {},
     "output_type": "display_data"
    }
   ],
   "source": [
    "import mplfinance as mpf\n",
    "from matplotlib.ticker import NullFormatter\n",
    "fig = mpf.figure(figsize=(7.5,5.75)) \n",
    "fig.subplots_adjust(hspace=0)\n",
    "ax1 = fig.subplot(211)\n",
    "ax2 = fig.subplot(212)\n",
    "\n",
    "for cmp, ax in zip([comp_name_1, comp_name_2], [ax1, ax2]):\n",
    "    mpf.plot(data.loc[ds: de][cmp], ax=ax,type='candle',style='yahoo', tight_layout=True, ylabel=cmp) \n",
    "ax1.get_xaxis().set_major_formatter(NullFormatter())"
   ]
  },
  {
   "cell_type": "code",
   "execution_count": 10,
   "metadata": {
    "scrolled": false
   },
   "outputs": [
    {
     "data": {
      "text/html": [
       "<div>\n",
       "<style scoped>\n",
       "    .dataframe tbody tr th:only-of-type {\n",
       "        vertical-align: middle;\n",
       "    }\n",
       "\n",
       "    .dataframe tbody tr th {\n",
       "        vertical-align: top;\n",
       "    }\n",
       "\n",
       "    .dataframe thead tr th {\n",
       "        text-align: left;\n",
       "    }\n",
       "\n",
       "    .dataframe thead tr:last-of-type th {\n",
       "        text-align: right;\n",
       "    }\n",
       "</style>\n",
       "<table border=\"1\" class=\"dataframe\">\n",
       "  <thead>\n",
       "    <tr>\n",
       "      <th></th>\n",
       "      <th colspan=\"5\" halign=\"left\">CSGP</th>\n",
       "      <th colspan=\"5\" halign=\"left\">AVIFY</th>\n",
       "    </tr>\n",
       "    <tr>\n",
       "      <th></th>\n",
       "      <th>Open</th>\n",
       "      <th>High</th>\n",
       "      <th>Low</th>\n",
       "      <th>Close</th>\n",
       "      <th>Volume</th>\n",
       "      <th>Open</th>\n",
       "      <th>High</th>\n",
       "      <th>Low</th>\n",
       "      <th>Close</th>\n",
       "      <th>Volume</th>\n",
       "    </tr>\n",
       "    <tr>\n",
       "      <th>Date</th>\n",
       "      <th></th>\n",
       "      <th></th>\n",
       "      <th></th>\n",
       "      <th></th>\n",
       "      <th></th>\n",
       "      <th></th>\n",
       "      <th></th>\n",
       "      <th></th>\n",
       "      <th></th>\n",
       "      <th></th>\n",
       "    </tr>\n",
       "  </thead>\n",
       "  <tbody>\n",
       "    <tr>\n",
       "      <th>2004-01-02</th>\n",
       "      <td>41.180000</td>\n",
       "      <td>42.520000</td>\n",
       "      <td>41.169998</td>\n",
       "      <td>42.150002</td>\n",
       "      <td>45300.0</td>\n",
       "      <td>0.072859</td>\n",
       "      <td>0.072859</td>\n",
       "      <td>0.072859</td>\n",
       "      <td>0.072859</td>\n",
       "      <td>10000.0</td>\n",
       "    </tr>\n",
       "    <tr>\n",
       "      <th>2004-01-05</th>\n",
       "      <td>42.349998</td>\n",
       "      <td>42.650002</td>\n",
       "      <td>41.939999</td>\n",
       "      <td>42.220001</td>\n",
       "      <td>60300.0</td>\n",
       "      <td>0.074515</td>\n",
       "      <td>0.086107</td>\n",
       "      <td>0.069548</td>\n",
       "      <td>0.074515</td>\n",
       "      <td>664000.0</td>\n",
       "    </tr>\n",
       "    <tr>\n",
       "      <th>2004-01-06</th>\n",
       "      <td>42.700001</td>\n",
       "      <td>42.700001</td>\n",
       "      <td>41.630001</td>\n",
       "      <td>41.810001</td>\n",
       "      <td>71100.0</td>\n",
       "      <td>0.078158</td>\n",
       "      <td>0.078158</td>\n",
       "      <td>0.076171</td>\n",
       "      <td>0.078158</td>\n",
       "      <td>349000.0</td>\n",
       "    </tr>\n",
       "    <tr>\n",
       "      <th>2004-01-07</th>\n",
       "      <td>42.070000</td>\n",
       "      <td>42.279999</td>\n",
       "      <td>41.110001</td>\n",
       "      <td>41.480000</td>\n",
       "      <td>92100.0</td>\n",
       "      <td>0.074184</td>\n",
       "      <td>0.074515</td>\n",
       "      <td>0.072528</td>\n",
       "      <td>0.074184</td>\n",
       "      <td>465000.0</td>\n",
       "    </tr>\n",
       "    <tr>\n",
       "      <th>2004-01-08</th>\n",
       "      <td>41.750000</td>\n",
       "      <td>42.049999</td>\n",
       "      <td>41.470001</td>\n",
       "      <td>41.900002</td>\n",
       "      <td>86700.0</td>\n",
       "      <td>0.076834</td>\n",
       "      <td>0.079483</td>\n",
       "      <td>0.072859</td>\n",
       "      <td>0.076834</td>\n",
       "      <td>67000.0</td>\n",
       "    </tr>\n",
       "  </tbody>\n",
       "</table>\n",
       "</div>"
      ],
      "text/plain": [
       "                 CSGP                                               AVIFY  \\\n",
       "                 Open       High        Low      Close   Volume      Open   \n",
       "Date                                                                        \n",
       "2004-01-02  41.180000  42.520000  41.169998  42.150002  45300.0  0.072859   \n",
       "2004-01-05  42.349998  42.650002  41.939999  42.220001  60300.0  0.074515   \n",
       "2004-01-06  42.700001  42.700001  41.630001  41.810001  71100.0  0.078158   \n",
       "2004-01-07  42.070000  42.279999  41.110001  41.480000  92100.0  0.074184   \n",
       "2004-01-08  41.750000  42.049999  41.470001  41.900002  86700.0  0.076834   \n",
       "\n",
       "                                                    \n",
       "                High       Low     Close    Volume  \n",
       "Date                                                \n",
       "2004-01-02  0.072859  0.072859  0.072859   10000.0  \n",
       "2004-01-05  0.086107  0.069548  0.074515  664000.0  \n",
       "2004-01-06  0.078158  0.076171  0.078158  349000.0  \n",
       "2004-01-07  0.074515  0.072528  0.074184  465000.0  \n",
       "2004-01-08  0.079483  0.072859  0.076834   67000.0  "
      ]
     },
     "execution_count": 10,
     "metadata": {},
     "output_type": "execute_result"
    }
   ],
   "source": [
    "data.loc[ds:de,([comp_name_1,comp_name_2], slice(None))].head()"
   ]
  },
  {
   "cell_type": "markdown",
   "metadata": {},
   "source": [
    "## 5. Write your reflections on the assignment. What was easy? What was hard? How much time did you spend on the assignment?"
   ]
  },
  {
   "cell_type": "code",
   "execution_count": 12,
   "metadata": {},
   "outputs": [
    {
     "name": "stdout",
     "output_type": "stream",
     "text": [
      "\u001b[34m How many days there are when Open equals Close? \u001b[0m\n",
      "AAPL       13\n",
      "INTU       20\n",
      "LRCX       20\n",
      "GD         23\n",
      "QCOM       23\n",
      "         ... \n",
      "SCMWY     381\n",
      "KKPNY     498\n",
      "TLSYY     591\n",
      "SFTBF    2468\n",
      "AVIFY    2821\n",
      "Length: 94, dtype: int64\n"
     ]
    }
   ],
   "source": [
    "idx = pd.IndexSlice\n",
    "OC_diff = pd.DataFrame()\n",
    "for ticker in TICKERS:\n",
    "    OC_diff[ticker] = (data.loc[:,idx[ticker,'Open']] - data.loc[:,idx[ticker,'Close']]).apply(abs)\n",
    "print(BLUE, 'How many days there are when Open equals Close?', RESET)\n",
    "print(OC_diff.apply(lambda i: i == 0.).sum().sort_values())"
   ]
  }
 ],
 "metadata": {
  "kernelspec": {
   "display_name": "Python 3",
   "language": "python",
   "name": "python3"
  },
  "language_info": {
   "codemirror_mode": {
    "name": "ipython",
    "version": 3
   },
   "file_extension": ".py",
   "mimetype": "text/x-python",
   "name": "python",
   "nbconvert_exporter": "python",
   "pygments_lexer": "ipython3",
   "version": "3.7.6"
  }
 },
 "nbformat": 4,
 "nbformat_minor": 4
}
